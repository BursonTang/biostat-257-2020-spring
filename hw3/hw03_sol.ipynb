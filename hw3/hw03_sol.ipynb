{
 "cells": [
  {
   "cell_type": "markdown",
   "metadata": {},
   "source": [
    "# Biostat 257 Homework 3\n",
    "\n",
    "**Due May 15 @ 11:59PM**\n",
    "\n",
    "We are going to try different numerical methods learnt in class on the [Google PageRank problem](https://en.wikipedia.org/wiki/PageRank)."
   ]
  },
  {
   "cell_type": "code",
   "execution_count": 1,
   "metadata": {},
   "outputs": [
    {
     "name": "stdout",
     "output_type": "stream",
     "text": [
      "Julia Version 1.4.1\n",
      "Commit 381693d3df* (2020-04-14 17:20 UTC)\n",
      "Platform Info:\n",
      "  OS: Windows (x86_64-w64-mingw32)\n",
      "  CPU: Intel(R) Core(TM) i7-8750H CPU @ 2.20GHz\n",
      "  WORD_SIZE: 64\n",
      "  LIBM: libopenlibm\n",
      "  LLVM: libLLVM-8.0.1 (ORCJIT, skylake)\n",
      "Environment:\n",
      "  JULIA = D:\\Julia-1.4.0\\bin\n"
     ]
    }
   ],
   "source": [
    "versioninfo()"
   ]
  },
  {
   "cell_type": "markdown",
   "metadata": {},
   "source": [
    "## Q1. (5 pts) Recognize structure\n",
    "\n",
    "Let $\\mathbf{A} \\in \\{0,1\\}^{n \\times n}$ be the connectivity matrix of $n$ web pages with entries\n",
    "$$\n",
    "\\begin{eqnarray*}\n",
    "\ta_{ij}= \\begin{cases}\n",
    "\t1 & \\text{if page $i$ links to page $j$} \\\\\n",
    "\t0 & \\text{otherwise}\n",
    "\t\\end{cases}.\n",
    "\\end{eqnarray*}\n",
    "$$\n",
    "$r_i = \\sum_j a_{ij}$ is the out-degree of page $i$. That is $r_i$ is the number of links on page $i$. Imagine a random surfer exploring the space of $n$ pages according to the following rules.  \n",
    "\n",
    "- From a page $i$ with $r_i>0$\n",
    "    * with probability $p$, (s)he randomly chooses a link on page $i$ (uniformly) and follows that link to the next page  \n",
    "    * with probability $1-p$, (s)he randomly chooses one page from the set of all $n$ pages (uniformly) and proceeds to that page  \n",
    "- From a page $i$ with $r_i=0$ (a dangling page), (s)he randomly chooses one page from the set of all $n$ pages (uniformly) and proceeds to that page  \n",
    "    \n",
    "The process defines a Markov chain on the space of $n$ pages. Write the transition matrix $\\mathbf{P}$ of the Markov chain as a sparse matrix plus rank 1 matrix.\\\n",
    "**Solution:** The elements of the transition matrix is the probability (s)he goes to the next page j, so we know:\n",
    "$$\n",
    "\\begin{eqnarray*}\n",
    "\tP_{ij}= \\begin{cases}\n",
    "\t\\frac{p}{r_i} + \\frac{1-p}{n} & \\text{if $r_i>0$} \\\\\n",
    "\t\\frac{1}{n} & \\text{$r_i=0$}\n",
    "\t\\end{cases}.\n",
    "\\end{eqnarray*}\n",
    "$$\n",
    "And we can decompose the transition Matrix $\\mathbf{P}$ as $\\mathbf{P = DA + Z1_n'}$ where D is a $\\mathbf{n\\times n}$ diagonal matrix with diagonal element $\\mathbf{(i,i)}$ being $\\mathbf{\\frac{p}{r_i}}$ if $\\mathbf{r_i>0}$ and $\\mathbf{0}$ if $\\mathbf{r_i=0}$. $\\mathbf{Z}$ is a $\\mathbf{n\\times 1}$ vector with i-th element $\\mathbf{\\frac{1-p}{n}}$ if $\\mathbf{r_i>0}$ and $\\mathbf{\\frac{1}{n}}$ if $\\mathbf{r_i=0}$."
   ]
  },
  {
   "cell_type": "markdown",
   "metadata": {},
   "source": [
    "## Q2. Relate to numerical linear algebra\n",
    "\n",
    "According to standard Markov chain theory, the (random) position of the surfer converges to the stationary distribution $\\mathbf{x} = (x_1,\\ldots,x_n)^T$ of the Markov chain. $x_i$ has the natural interpretation of the proportion of times the surfer visits page $i$ in the long run. Therefore $\\mathbf{x}$ serves as page ranks: a higher $x_i$ means page $i$ is more visited. It is well-known that $\\mathbf{x}$ is the left eigenvector corresponding to the top eigenvalue 1 of the transition matrix $\\mathbf{P}$. That is $\\mathbf{P}^T \\mathbf{x} = \\mathbf{x}$. Therefore $\\mathbf{x}$ can be solved as an **eigen-problem**. It can also be cast as **solving a linear system**. Since the row sums of $\\mathbf{P}$ are 1, $\\mathbf{P}$ is rank deficient. We can replace the first equation by the $\\sum_{i=1}^n x_i = 1$.\n",
    "\n",
    "Hint: For iterative solvers, we don't need to replace the 1st equation. We can use the matrix $\\mathbf{I} - \\mathbf{P}^T$ directly if we start with a vector with all positive entries.\n",
    "**Solution:** We can cast the function as a linear system problem by rearrangement:\n",
    "$$\\mathbf{P^TX} = \\mathbf{X}$$\n",
    "$$\\mathbf{(I-P^T)X} = 0$$"
   ]
  },
  {
   "cell_type": "markdown",
   "metadata": {},
   "source": [
    "## Q3. (10 pts) Explore data\n",
    "\n",
    "Obtain the connectivity matrix `A` from the `SNAP/web-Google` data in the MatrixDepot package. "
   ]
  },
  {
   "cell_type": "code",
   "execution_count": 3,
   "metadata": {
    "collapsed": true,
    "jupyter": {
     "outputs_hidden": true
    }
   },
   "outputs": [
    {
     "name": "stdout",
     "output_type": "stream",
     "text": [
      "include group.jl for user defined matrix generators\n",
      "verify download of index files...\n",
      "used remote site is https://sparse.tamu.edu/?per_page=All\n",
      "populating internal database...\n",
      "downloading: https://sparse.tamu.edu/MM/SNAP/web-Google.tar.gz\n",
      "web-Google/web-Google.mtx\n"
     ]
    },
    {
     "data": {
      "text/latex": [
       "\\section{SNAP/web-Google}\n",
       "\\subsubparagraph{MatrixMarket matrix coordinate pattern general}\n",
       "\\rule{\\textwidth}{1pt}\n",
       "\\begin{itemize}\n",
       "\\item UF Sparse Matrix Collection, Tim Davis\n",
       "\n",
       "\n",
       "\\item http://www.cise.ufl.edu/research/sparse/matrices/SNAP/web-Google\n",
       "\n",
       "\n",
       "\\item name: SNAP/web-Google\n",
       "\n",
       "\n",
       "\\item [Web graph from Google]\n",
       "\n",
       "\n",
       "\\item id: 2301\n",
       "\n",
       "\n",
       "\\item date: 2002\n",
       "\n",
       "\n",
       "\\item author: Google\n",
       "\n",
       "\n",
       "\\item ed: J. Leskovec\n",
       "\n",
       "\n",
       "\\item fields: name title A id date author ed kind notes\n",
       "\n",
       "\n",
       "\\item kind: directed graph\n",
       "\n",
       "\\end{itemize}\n",
       "\\rule{\\textwidth}{1pt}\n",
       "\\begin{itemize}\n",
       "\\item notes:\n",
       "\n",
       "\n",
       "\\item Networks from SNAP (Stanford Network Analysis Platform) Network Data Sets,     \n",
       "\n",
       "\n",
       "\\item Jure Leskovec http://snap.stanford.edu/data/index.html                         \n",
       "\n",
       "\n",
       "\\item email jure at cs.stanford.edu                                                  \n",
       "\n",
       "\n",
       "\\item \n",
       "\\item Google web graph                                                               \n",
       "\n",
       "\n",
       "\\item \n",
       "\\item Dataset information                                                            \n",
       "\n",
       "\n",
       "\\item \n",
       "\\item Nodes represent web pages and directed edges represent hyperlinks between them.\n",
       "\n",
       "\n",
       "\\item The data was released in 2002 by Google as a part of Google Programming        \n",
       "\n",
       "\n",
       "\\item Contest.                                                                       \n",
       "\n",
       "\n",
       "\\item \n",
       "\\item Dataset statistics                                                             \n",
       "\n",
       "\n",
       "\\item Nodes   875713                                                                 \n",
       "\n",
       "\n",
       "\\item Edges   5105039                                                                \n",
       "\n",
       "\n",
       "\\item Nodes in largest WCC    855802 (0.977)                                         \n",
       "\n",
       "\n",
       "\\item Edges in largest WCC    5066842 (0.993)                                        \n",
       "\n",
       "\n",
       "\\item Nodes in largest SCC    434818 (0.497)                                         \n",
       "\n",
       "\n",
       "\\item Edges in largest SCC    3419124 (0.670)                                        \n",
       "\n",
       "\n",
       "\\item Average clustering coefficient  0.6047                                         \n",
       "\n",
       "\n",
       "\\item Number of triangles     13391903                                               \n",
       "\n",
       "\n",
       "\\item Fraction of closed triangles    0.05523                                        \n",
       "\n",
       "\n",
       "\\item Diameter (longest shortest path)    22                                         \n",
       "\n",
       "\n",
       "\\item 90-percentile effective diameter    8.1                                        \n",
       "\n",
       "\n",
       "\\item \n",
       "\\item Source (citation)                                                              \n",
       "\n",
       "\n",
       "\\item \n",
       "\\item J. Leskovec, K. Lang, A. Dasgupta, M. Mahoney. Community Structure in Large    \n",
       "\n",
       "\n",
       "\\item Networks: Natural Cluster Sizes and the Absence of Large Well-Defined Clusters.\n",
       "\n",
       "\n",
       "\\item arXiv.org:0810.1355, 2008.                                                     \n",
       "\n",
       "\n",
       "\\item \n",
       "\\item Google programming contest, 2002                                               \n",
       "\n",
       "\n",
       "\\item http://www.google.com/programming-contest/                                     \n",
       "\n",
       "\n",
       "\\item \n",
       "\\item Files                                                                          \n",
       "\n",
       "\n",
       "\\item File    Description                                                            \n",
       "\n",
       "\n",
       "\\item web-Google.txt.gz   Webgraph from the Google programming contest, 2002         \n",
       "\n",
       "\\end{itemize}\n",
       "\\rule{\\textwidth}{1pt}\n",
       "916428 916428 5105039\n",
       "\n"
      ],
      "text/markdown": [
       "# SNAP/web-Google\n",
       "\n",
       "###### MatrixMarket matrix coordinate pattern general\n",
       "\n",
       "---\n",
       "\n",
       "  * UF Sparse Matrix Collection, Tim Davis\n",
       "  * http://www.cise.ufl.edu/research/sparse/matrices/SNAP/web-Google\n",
       "  * name: SNAP/web-Google\n",
       "  * [Web graph from Google]\n",
       "  * id: 2301\n",
       "  * date: 2002\n",
       "  * author: Google\n",
       "  * ed: J. Leskovec\n",
       "  * fields: name title A id date author ed kind notes\n",
       "  * kind: directed graph\n",
       "\n",
       "---\n",
       "\n",
       "  * notes:\n",
       "  * Networks from SNAP (Stanford Network Analysis Platform) Network Data Sets,\n",
       "  * Jure Leskovec http://snap.stanford.edu/data/index.html\n",
       "  * email jure at cs.stanford.edu\n",
       "  * \n",
       "  * Google web graph\n",
       "  * \n",
       "  * Dataset information\n",
       "  * \n",
       "  * Nodes represent web pages and directed edges represent hyperlinks between them.\n",
       "  * The data was released in 2002 by Google as a part of Google Programming\n",
       "  * Contest.\n",
       "  * \n",
       "  * Dataset statistics\n",
       "  * Nodes   875713\n",
       "  * Edges   5105039\n",
       "  * Nodes in largest WCC    855802 (0.977)\n",
       "  * Edges in largest WCC    5066842 (0.993)\n",
       "  * Nodes in largest SCC    434818 (0.497)\n",
       "  * Edges in largest SCC    3419124 (0.670)\n",
       "  * Average clustering coefficient  0.6047\n",
       "  * Number of triangles     13391903\n",
       "  * Fraction of closed triangles    0.05523\n",
       "  * Diameter (longest shortest path)    22\n",
       "  * 90-percentile effective diameter    8.1\n",
       "  * \n",
       "  * Source (citation)\n",
       "  * \n",
       "  * J. Leskovec, K. Lang, A. Dasgupta, M. Mahoney. Community Structure in Large\n",
       "  * Networks: Natural Cluster Sizes and the Absence of Large Well-Defined Clusters.\n",
       "  * arXiv.org:0810.1355, 2008.\n",
       "  * \n",
       "  * Google programming contest, 2002\n",
       "  * http://www.google.com/programming-contest/\n",
       "  * \n",
       "  * Files\n",
       "  * File    Description\n",
       "  * web-Google.txt.gz   Webgraph from the Google programming contest, 2002\n",
       "\n",
       "---\n",
       "\n",
       "916428 916428 5105039\n"
      ],
      "text/plain": [
       "\u001b[1m  SNAP/web-Google\u001b[22m\n",
       "\u001b[1m  ≡≡≡≡≡≡≡≡≡≡≡≡≡≡≡≡≡\u001b[22m\n",
       "\n",
       "\u001b[1m  MatrixMarket matrix coordinate pattern general\u001b[22m\n",
       "\n",
       "  ────────────────────────────────────────────────────────────────────────────\n",
       "\n",
       "    •    UF Sparse Matrix Collection, Tim Davis\n",
       "\n",
       "    •    http://www.cise.ufl.edu/research/sparse/matrices/SNAP/web-Google\n",
       "\n",
       "    •    name: SNAP/web-Google\n",
       "\n",
       "    •    [Web graph from Google]\n",
       "\n",
       "    •    id: 2301\n",
       "\n",
       "    •    date: 2002\n",
       "\n",
       "    •    author: Google\n",
       "\n",
       "    •    ed: J. Leskovec\n",
       "\n",
       "    •    fields: name title A id date author ed kind notes\n",
       "\n",
       "    •    kind: directed graph\n",
       "\n",
       "  ────────────────────────────────────────────────────────────────────────────\n",
       "\n",
       "    •    notes:\n",
       "\n",
       "    •    Networks from SNAP (Stanford Network Analysis Platform) Network\n",
       "        Data Sets, \n",
       "\n",
       "    •    Jure Leskovec http://snap.stanford.edu/data/index.html \n",
       "\n",
       "    •    email jure at cs.stanford.edu \n",
       "\n",
       "    •  \n",
       "\n",
       "    •    Google web graph \n",
       "\n",
       "    •  \n",
       "\n",
       "    •    Dataset information \n",
       "\n",
       "    •  \n",
       "\n",
       "    •    Nodes represent web pages and directed edges represent hyperlinks\n",
       "        between them.\n",
       "\n",
       "    •    The data was released in 2002 by Google as a part of Google\n",
       "        Programming \n",
       "\n",
       "    •    Contest. \n",
       "\n",
       "    •  \n",
       "\n",
       "    •    Dataset statistics \n",
       "\n",
       "    •    Nodes 875713 \n",
       "\n",
       "    •    Edges 5105039 \n",
       "\n",
       "    •    Nodes in largest WCC 855802 (0.977) \n",
       "\n",
       "    •    Edges in largest WCC 5066842 (0.993) \n",
       "\n",
       "    •    Nodes in largest SCC 434818 (0.497) \n",
       "\n",
       "    •    Edges in largest SCC 3419124 (0.670) \n",
       "\n",
       "    •    Average clustering coefficient 0.6047 \n",
       "\n",
       "    •    Number of triangles 13391903 \n",
       "\n",
       "    •    Fraction of closed triangles 0.05523 \n",
       "\n",
       "    •    Diameter (longest shortest path) 22 \n",
       "\n",
       "    •    90-percentile effective diameter 8.1 \n",
       "\n",
       "    •  \n",
       "\n",
       "    •    Source (citation) \n",
       "\n",
       "    •  \n",
       "\n",
       "    •    J. Leskovec, K. Lang, A. Dasgupta, M. Mahoney. Community Structure\n",
       "        in Large \n",
       "\n",
       "    •    Networks: Natural Cluster Sizes and the Absence of Large\n",
       "        Well-Defined Clusters.\n",
       "\n",
       "    •    arXiv.org:0810.1355, 2008. \n",
       "\n",
       "    •  \n",
       "\n",
       "    •    Google programming contest, 2002 \n",
       "\n",
       "    •    http://www.google.com/programming-contest/ \n",
       "\n",
       "    •  \n",
       "\n",
       "    •    Files \n",
       "\n",
       "    •    File Description \n",
       "\n",
       "    •    web-Google.txt.gz Webgraph from the Google programming contest,\n",
       "        2002 \n",
       "\n",
       "  ────────────────────────────────────────────────────────────────────────────\n",
       "\n",
       "  916428 916428 5105039"
      ]
     },
     "execution_count": 3,
     "metadata": {},
     "output_type": "execute_result"
    }
   ],
   "source": [
    "using MatrixDepot\n",
    "\n",
    "md = mdopen(\"SNAP/web-Google\")\n",
    "# display documentation for the SNAP/web-Google data\n",
    "mdinfo(md)"
   ]
  },
  {
   "cell_type": "code",
   "execution_count": 4,
   "metadata": {
    "collapsed": true,
    "jupyter": {
     "outputs_hidden": true
    }
   },
   "outputs": [
    {
     "data": {
      "text/plain": [
       "916428×916428 SparseArrays.SparseMatrixCSC{Bool,Int64} with 5105039 stored entries:\n",
       "  [11343 ,      1]  =  1\n",
       "  [11928 ,      1]  =  1\n",
       "  [15902 ,      1]  =  1\n",
       "  [29547 ,      1]  =  1\n",
       "  [30282 ,      1]  =  1\n",
       "  [31301 ,      1]  =  1\n",
       "  [38717 ,      1]  =  1\n",
       "  [43930 ,      1]  =  1\n",
       "  [46275 ,      1]  =  1\n",
       "  [48193 ,      1]  =  1\n",
       "  [50823 ,      1]  =  1\n",
       "  [56911 ,      1]  =  1\n",
       "  ⋮\n",
       "  [608625, 916427]  =  1\n",
       "  [618730, 916427]  =  1\n",
       "  [622998, 916427]  =  1\n",
       "  [673046, 916427]  =  1\n",
       "  [716616, 916427]  =  1\n",
       "  [720325, 916427]  =  1\n",
       "  [772226, 916427]  =  1\n",
       "  [785097, 916427]  =  1\n",
       "  [788476, 916427]  =  1\n",
       "  [822938, 916427]  =  1\n",
       "  [833616, 916427]  =  1\n",
       "  [417498, 916428]  =  1\n",
       "  [843845, 916428]  =  1"
      ]
     },
     "execution_count": 4,
     "metadata": {},
     "output_type": "execute_result"
    }
   ],
   "source": [
    "# connectivity matrix\n",
    "A = md.A"
   ]
  },
  {
   "cell_type": "markdown",
   "metadata": {},
   "source": [
    "Compute summary statistics:\n",
    "* How much memory does `A` take? If converted to a `Matrix{Float64}` (don't do it!), how much memory will it take?  "
   ]
  },
  {
   "cell_type": "code",
   "execution_count": 3,
   "metadata": {},
   "outputs": [
    {
     "name": "stdout",
     "output_type": "stream",
     "text": [
      "Base.summarysize(A) = 53276943\n",
      "typeof(A[1, 1]) = Bool\n"
     ]
    },
    {
     "data": {
      "text/plain": [
       "Bool"
      ]
     },
     "execution_count": 3,
     "metadata": {},
     "output_type": "execute_result"
    }
   ],
   "source": [
    "@show Base.summarysize(A)\n",
    "@show typeof(A[1,1])"
   ]
  },
  {
   "cell_type": "markdown",
   "metadata": {},
   "source": [
    "**Solutions:** Currently it takes 53276943 bytes (around 53MB), and if converted the type from Boolean (1bytes) to Float 64(8bytes), the memory size will be increased by 8 times."
   ]
  },
  {
   "cell_type": "code",
   "execution_count": 5,
   "metadata": {},
   "outputs": [
    {
     "name": "stdout",
     "output_type": "stream",
     "text": [
      "sum(sum(A)) = 5105039\n",
      "count((i->begin\n",
      "            #= In[5]:2 =#\n",
      "            i == 0\n",
      "        end), sum(A, dims = 2)) = 176974\n"
     ]
    },
    {
     "data": {
      "text/plain": [
       "176974"
      ]
     },
     "execution_count": 5,
     "metadata": {},
     "output_type": "execute_result"
    }
   ],
   "source": [
    "@show sum(sum(A))\n",
    "@show count(i->(i==0), sum(A, dims=2))"
   ]
  },
  {
   "cell_type": "markdown",
   "metadata": {},
   "source": [
    "* number of web pages\n",
    "* number of edges (web links). \n",
    "* number of dangling nodes (pages with no out links)"
   ]
  },
  {
   "cell_type": "markdown",
   "metadata": {},
   "source": [
    "**Solutions:**  According to the matrix size and stored entries number, we know there are **916428** web pages, and **5105039** edges, and **176974** dangling nodes"
   ]
  },
  {
   "cell_type": "markdown",
   "metadata": {},
   "source": [
    "* histogram of in-degrees  \n",
    "* list the top 20 pages with the largest in-degrees?  "
   ]
  },
  {
   "cell_type": "code",
   "execution_count": 46,
   "metadata": {},
   "outputs": [
    {
     "name": "stdout",
     "output_type": "stream",
     "text": [
      "histogram(inD, nbins = 25, xscale = log10) =                     ┌                                        ┐ \n",
      "   [   0.0,  500.0) ┤▇▇▇▇▇▇▇▇▇▇▇▇▇▇▇▇▇▇▇▇▇▇▇▇▇▇▇▇▇▇▇▇ 916114   \n",
      "   [ 500.0, 1000.0) ┤▇▇▇▇▇▇▇▇▇▇▇▇ 180                          \n",
      "   [1000.0, 1500.0) ┤▇▇▇▇▇▇▇▇ 32                               \n",
      "   [1500.0, 2000.0) ┤▇▇▇▇▇▇▇ 20                                \n",
      "   [2000.0, 2500.0) ┤▇▇▇▇▇▇ 16                                 \n",
      "   [2500.0, 3000.0) ┤▇▇▇▇▇▇▇ 20                                \n",
      "   [3000.0, 3500.0) ┤▇▇▇▇▇▇▇ 18                                \n",
      "   [3500.0, 4000.0) ┤▇▇▇▇▇ 10                                  \n",
      "   [4000.0, 4500.0) ┤▇▇▇▇▇ 9                                   \n",
      "   [4500.0, 5000.0) ┤▇▇▇ 4                                     \n",
      "   [5000.0, 5500.0) ┤▇▇▇ 4                                     \n",
      "   [5500.0, 6000.0) ┤ 0                                        \n",
      "   [6000.0, 6500.0) ┤ 1                                        \n",
      "                    └                                        ┘ \n",
      "                                Frequency [log10]\n",
      "findall((x->begin\n",
      "            #= In[46]:5 =#\n",
      "            x <= 20\n",
      "        end), rankInD) = [1, 2, 3, 201884, 201885, 201886, 201887, 201888, 201889, 201890, 488779, 603321, 603322, 698817, 726686, 830133, 844453, 844454, 901699, 915320]\n"
     ]
    },
    {
     "data": {
      "text/plain": [
       "20-element Array{Int64,1}:\n",
       "      1\n",
       "      2\n",
       "      3\n",
       " 201884\n",
       " 201885\n",
       " 201886\n",
       " 201887\n",
       " 201888\n",
       " 201889\n",
       " 201890\n",
       " 488779\n",
       " 603321\n",
       " 603322\n",
       " 698817\n",
       " 726686\n",
       " 830133\n",
       " 844453\n",
       " 844454\n",
       " 901699\n",
       " 915320"
      ]
     },
     "execution_count": 46,
     "metadata": {},
     "output_type": "execute_result"
    }
   ],
   "source": [
    "using UnicodePlots\n",
    "inD = vec(sum(A, dims=1))\n",
    "@show histogram(inD,nbins = 25 ,xscale = log10)\n",
    "rankInD = sortperm(inD)\n",
    "@show findall(x->x<=20, rankInD)"
   ]
  },
  {
   "cell_type": "markdown",
   "metadata": {},
   "source": [
    "* histogram of out-degrees\n",
    "* which the top 20 pages with the largest out-degrees?"
   ]
  },
  {
   "cell_type": "code",
   "execution_count": 47,
   "metadata": {},
   "outputs": [
    {
     "name": "stdout",
     "output_type": "stream",
     "text": [
      "histogram(outD, nbins = 25, xscale = log10) =                   ┌                                        ┐ \n",
      "   [  0.0,  20.0) ┤▇▇▇▇▇▇▇▇▇▇▇▇▇▇▇▇▇▇▇▇▇▇▇▇▇▇▇▇▇▇▇▇ 891798   \n",
      "   [ 20.0,  40.0) ┤▇▇▇▇▇▇▇▇▇▇▇▇▇▇▇▇▇▇▇▇▇▇▇ 22628             \n",
      "   [ 40.0,  60.0) ┤▇▇▇▇▇▇▇▇▇▇▇▇▇▇▇▇▇ 1329                    \n",
      "   [ 60.0,  80.0) ┤▇▇▇▇▇▇▇▇▇▇▇▇▇▇ 371                        \n",
      "   [ 80.0, 100.0) ┤▇▇▇▇▇▇▇▇▇▇▇ 124                           \n",
      "   [100.0, 120.0) ┤▇▇▇▇▇▇▇▇▇▇ 86                             \n",
      "   [120.0, 140.0) ┤▇▇▇▇▇▇▇▇ 29                               \n",
      "   [140.0, 160.0) ┤▇▇▇▇▇▇ 15                                 \n",
      "   [160.0, 180.0) ┤▇▇▇▇▇▇ 15                                 \n",
      "   [180.0, 200.0) ┤▇▇▇▇▇ 8                                   \n",
      "   [200.0, 220.0) ┤▇▇▇▇▇ 7                                   \n",
      "   [220.0, 240.0) ┤▇▇▇ 3                                     \n",
      "   [240.0, 260.0) ┤▇▇▇▇▇ 8                                   \n",
      "   [260.0, 280.0) ┤▇▇▇ 3                                     \n",
      "   [280.0, 300.0) ┤ 0                                        \n",
      "   [300.0, 320.0) ┤ 0                                        \n",
      "   [320.0, 340.0) ┤ 1                                        \n",
      "   [340.0, 360.0) ┤ 0                                        \n",
      "   [360.0, 380.0) ┤▇▇ 2                                      \n",
      "   [380.0, 400.0) ┤ 0                                        \n",
      "   [400.0, 420.0) ┤ 0                                        \n",
      "   [420.0, 440.0) ┤ 0                                        \n",
      "   [440.0, 460.0) ┤ 1                                        \n",
      "                  └                                        ┘ \n",
      "                              Frequency [log10]\n",
      "findall((x->begin\n",
      "            #= In[47]:4 =#\n",
      "            x <= 20\n",
      "        end), rankOutD) = [1, 2, 176975, 176976, 304912, 400165, 400166, 466141, 466142, 607465, 607466, 607467, 715809, 744905, 744906, 744907, 844414, 857484, 869262, 891799]\n"
     ]
    },
    {
     "data": {
      "text/plain": [
       "20-element Array{Int64,1}:\n",
       "      1\n",
       "      2\n",
       " 176975\n",
       " 176976\n",
       " 304912\n",
       " 400165\n",
       " 400166\n",
       " 466141\n",
       " 466142\n",
       " 607465\n",
       " 607466\n",
       " 607467\n",
       " 715809\n",
       " 744905\n",
       " 744906\n",
       " 744907\n",
       " 844414\n",
       " 857484\n",
       " 869262\n",
       " 891799"
      ]
     },
     "execution_count": 47,
     "metadata": {},
     "output_type": "execute_result"
    }
   ],
   "source": [
    "outD = vec(sum(A, dims=2))\n",
    "@show histogram(outD,nbins = 25 ,xscale = log10)\n",
    "rankOutD = sortperm(outD)\n",
    "@show findall(x->x<=20, rankOutD)"
   ]
  },
  {
   "cell_type": "markdown",
   "metadata": {},
   "source": [
    "* visualize the sparsity pattern of $\\mathbf{A}$ or a submatrix of $\\mathbf{A}$ say `A[1:10000, 1:10000]`. "
   ]
  },
  {
   "cell_type": "code",
   "execution_count": 60,
   "metadata": {},
   "outputs": [
    {
     "data": {
      "text/plain": [
       "\u001b[1m                      Sparsity Pattern\u001b[22m\n",
       "\u001b[90m         ┌──────────────────────────────────────────┐\u001b[39m    \n",
       "       \u001b[90m1\u001b[39m\u001b[90m │\u001b[39m\u001b[0m⠀\u001b[0m⠀\u001b[0m⠀\u001b[0m⠀\u001b[0m⠀\u001b[0m⠀\u001b[0m⠀\u001b[31m⠂\u001b[39m\u001b[0m⠀\u001b[0m⠀\u001b[0m⠀\u001b[0m⠀\u001b[31m⢀\u001b[39m\u001b[31m⢂\u001b[39m\u001b[31m⡂\u001b[39m\u001b[31m⠐\u001b[39m\u001b[0m⠀\u001b[0m⠀\u001b[0m⠀\u001b[31m⠠\u001b[39m\u001b[0m⠀\u001b[0m⠀\u001b[0m⠀\u001b[31m⠔\u001b[39m\u001b[31m⠄\u001b[39m\u001b[0m⠀\u001b[31m⠈\u001b[39m\u001b[31m⢀\u001b[39m\u001b[0m⠀\u001b[0m⠀\u001b[31m⠉\u001b[39m\u001b[0m⠀\u001b[0m⠀\u001b[31m⠁\u001b[39m\u001b[0m⠀\u001b[0m⠀\u001b[31m⠐\u001b[39m\u001b[0m⠀\u001b[31m⠄\u001b[39m\u001b[0m⠀\u001b[31m⠐\u001b[39m\u001b[0m⠀\u001b[90m│\u001b[39m \u001b[31m> 0\u001b[39m\n",
       "        \u001b[90m │\u001b[39m\u001b[0m⠀\u001b[0m⠀\u001b[0m⠀\u001b[0m⠀\u001b[0m⠀\u001b[31m⠂\u001b[39m\u001b[31m⡂\u001b[39m\u001b[0m⠀\u001b[31m⠄\u001b[39m\u001b[31m⠄\u001b[39m\u001b[31m⠈\u001b[39m\u001b[31m⠈\u001b[39m\u001b[31m⡔\u001b[39m\u001b[0m⠀\u001b[0m⠀\u001b[31m⠁\u001b[39m\u001b[31m⠂\u001b[39m\u001b[0m⠀\u001b[0m⠀\u001b[0m⠀\u001b[0m⠀\u001b[31m⠠\u001b[39m\u001b[31m⠁\u001b[39m\u001b[31m⠒\u001b[39m\u001b[31m⠁\u001b[39m\u001b[0m⠀\u001b[31m⠄\u001b[39m\u001b[0m⠀\u001b[31m⠐\u001b[39m\u001b[0m⠀\u001b[31m⠈\u001b[39m\u001b[0m⠀\u001b[0m⠀\u001b[31m⡐\u001b[39m\u001b[0m⠀\u001b[0m⠀\u001b[31m⠠\u001b[39m\u001b[0m⠀\u001b[31m⡀\u001b[39m\u001b[0m⠀\u001b[31m⠉\u001b[39m\u001b[0m⠀\u001b[90m│\u001b[39m \u001b[34m< 0\u001b[39m\n",
       "        \u001b[90m │\u001b[39m\u001b[0m⠀\u001b[31m⠐\u001b[39m\u001b[31m⠠\u001b[39m\u001b[0m⠀\u001b[0m⠀\u001b[31m⠁\u001b[39m\u001b[31m⢐\u001b[39m\u001b[31m⠄\u001b[39m\u001b[0m⠀\u001b[31m⠢\u001b[39m\u001b[31m⠠\u001b[39m\u001b[0m⠀\u001b[0m⠀\u001b[31m⡀\u001b[39m\u001b[31m⠈\u001b[39m\u001b[0m⠀\u001b[31m⠋\u001b[39m\u001b[0m⠀\u001b[0m⠀\u001b[0m⠀\u001b[0m⠀\u001b[0m⠀\u001b[31m⠂\u001b[39m\u001b[31m⡀\u001b[39m\u001b[0m⠀\u001b[31m⠈\u001b[39m\u001b[31m⠄\u001b[39m\u001b[0m⠀\u001b[31m⠄\u001b[39m\u001b[31m⠁\u001b[39m\u001b[31m⠈\u001b[39m\u001b[0m⠀\u001b[31m⠠\u001b[39m\u001b[0m⠀\u001b[31m⠰\u001b[39m\u001b[0m⠀\u001b[0m⠀\u001b[0m⠀\u001b[0m⠀\u001b[31m⢀\u001b[39m\u001b[31m⠆\u001b[39m\u001b[0m⠀\u001b[90m│\u001b[39m    \n",
       "        \u001b[90m │\u001b[39m\u001b[0m⠀\u001b[31m⠈\u001b[39m\u001b[31m⠠\u001b[39m\u001b[31m⠂\u001b[39m\u001b[0m⠀\u001b[31m⠈\u001b[39m\u001b[0m⠀\u001b[31m⡠\u001b[39m\u001b[31m⠐\u001b[39m\u001b[0m⠀\u001b[0m⠀\u001b[0m⠀\u001b[0m⠀\u001b[0m⠀\u001b[0m⠀\u001b[0m⠀\u001b[0m⠀\u001b[0m⠀\u001b[0m⠀\u001b[31m⡀\u001b[39m\u001b[31m⠈\u001b[39m\u001b[31m⠄\u001b[39m\u001b[31m⠁\u001b[39m\u001b[31m⢀\u001b[39m\u001b[31m⡀\u001b[39m\u001b[31m⠐\u001b[39m\u001b[31m⠄\u001b[39m\u001b[31m⠄\u001b[39m\u001b[0m⠀\u001b[0m⠀\u001b[31m⢀\u001b[39m\u001b[0m⠀\u001b[31m⠈\u001b[39m\u001b[31m⠂\u001b[39m\u001b[31m⢠\u001b[39m\u001b[0m⠀\u001b[31m⠢\u001b[39m\u001b[31m⠐\u001b[39m\u001b[0m⠀\u001b[0m⠀\u001b[0m⠀\u001b[31m⡀\u001b[39m\u001b[90m│\u001b[39m    \n",
       "        \u001b[90m │\u001b[39m\u001b[0m⠀\u001b[0m⠀\u001b[31m⠐\u001b[39m\u001b[31m⡁\u001b[39m\u001b[0m⠀\u001b[31m⡀\u001b[39m\u001b[0m⠀\u001b[0m⠀\u001b[31m⠠\u001b[39m\u001b[0m⠀\u001b[31m⠁\u001b[39m\u001b[0m⠀\u001b[0m⠀\u001b[0m⠀\u001b[31m⡄\u001b[39m\u001b[0m⠀\u001b[31m⠈\u001b[39m\u001b[31m⠁\u001b[39m\u001b[0m⠀\u001b[0m⠀\u001b[0m⠀\u001b[0m⠀\u001b[31m⠠\u001b[39m\u001b[31m⠂\u001b[39m\u001b[0m⠀\u001b[0m⠀\u001b[0m⠀\u001b[0m⠀\u001b[0m⠀\u001b[31m⠂\u001b[39m\u001b[31m⠪\u001b[39m\u001b[0m⠀\u001b[0m⠀\u001b[31m⠂\u001b[39m\u001b[0m⠀\u001b[0m⠀\u001b[0m⠀\u001b[31m⠄\u001b[39m\u001b[31m⢀\u001b[39m\u001b[0m⠀\u001b[31m⠁\u001b[39m\u001b[0m⠀\u001b[90m│\u001b[39m    \n",
       "        \u001b[90m │\u001b[39m\u001b[31m⠂\u001b[39m\u001b[31m⢀\u001b[39m\u001b[0m⠀\u001b[31m⠁\u001b[39m\u001b[0m⠀\u001b[0m⠀\u001b[31m⡀\u001b[39m\u001b[31m⡉\u001b[39m\u001b[0m⠀\u001b[0m⠀\u001b[31m⠠\u001b[39m\u001b[31m⠂\u001b[39m\u001b[31m⠐\u001b[39m\u001b[31m⢀\u001b[39m\u001b[31m⠄\u001b[39m\u001b[31m⠁\u001b[39m\u001b[31m⠐\u001b[39m\u001b[0m⠀\u001b[31m⠈\u001b[39m\u001b[0m⠀\u001b[0m⠀\u001b[0m⠀\u001b[0m⠀\u001b[0m⠀\u001b[31m⡀\u001b[39m\u001b[31m⠐\u001b[39m\u001b[31m⠁\u001b[39m\u001b[31m⡠\u001b[39m\u001b[0m⠀\u001b[31m⠂\u001b[39m\u001b[31m⠚\u001b[39m\u001b[0m⠀\u001b[31m⠁\u001b[39m\u001b[0m⠀\u001b[31m⠐\u001b[39m\u001b[31m⢀\u001b[39m\u001b[31m⠆\u001b[39m\u001b[0m⠀\u001b[31m⠈\u001b[39m\u001b[31m⠄\u001b[39m\u001b[31m⢀\u001b[39m\u001b[31m⠂\u001b[39m\u001b[90m│\u001b[39m    \n",
       "        \u001b[90m │\u001b[39m\u001b[0m⠀\u001b[0m⠀\u001b[0m⠀\u001b[31m⠁\u001b[39m\u001b[0m⠀\u001b[31m⡄\u001b[39m\u001b[0m⠀\u001b[0m⠀\u001b[0m⠀\u001b[0m⠀\u001b[31m⠒\u001b[39m\u001b[0m⠀\u001b[31m⢄\u001b[39m\u001b[31m⠄\u001b[39m\u001b[31m⢂\u001b[39m\u001b[0m⠀\u001b[31m⠂\u001b[39m\u001b[0m⠀\u001b[0m⠀\u001b[31m⠄\u001b[39m\u001b[0m⠀\u001b[31m⢀\u001b[39m\u001b[0m⠀\u001b[31m⠣\u001b[39m\u001b[0m⠀\u001b[31m⢀\u001b[39m\u001b[0m⠀\u001b[0m⠀\u001b[0m⠀\u001b[0m⠀\u001b[31m⠠\u001b[39m\u001b[31m⡀\u001b[39m\u001b[0m⠀\u001b[0m⠀\u001b[31m⢠\u001b[39m\u001b[31m⠄\u001b[39m\u001b[0m⠀\u001b[31m⡀\u001b[39m\u001b[0m⠀\u001b[31m⠂\u001b[39m\u001b[31m⠂\u001b[39m\u001b[0m⠀\u001b[90m│\u001b[39m    \n",
       "        \u001b[90m │\u001b[39m\u001b[31m⢀\u001b[39m\u001b[31m⠈\u001b[39m\u001b[0m⠀\u001b[0m⠀\u001b[31m⠂\u001b[39m\u001b[0m⠀\u001b[0m⠀\u001b[31m⠁\u001b[39m\u001b[31m⢠\u001b[39m\u001b[31m⠈\u001b[39m\u001b[31m⠄\u001b[39m\u001b[31m⠁\u001b[39m\u001b[0m⠀\u001b[0m⠀\u001b[31m⡈\u001b[39m\u001b[31m⠈\u001b[39m\u001b[31m⠠\u001b[39m\u001b[0m⠀\u001b[31m⢀\u001b[39m\u001b[31m⡦\u001b[39m\u001b[0m⠀\u001b[0m⠀\u001b[31m⠅\u001b[39m\u001b[31m⠐\u001b[39m\u001b[0m⠀\u001b[31m⠨\u001b[39m\u001b[31m⠁\u001b[39m\u001b[31m⠨\u001b[39m\u001b[0m⠀\u001b[31m⠄\u001b[39m\u001b[31m⠠\u001b[39m\u001b[31m⢀\u001b[39m\u001b[0m⠀\u001b[31m⠐\u001b[39m\u001b[31m⢐\u001b[39m\u001b[0m⠀\u001b[0m⠀\u001b[31m⠉\u001b[39m\u001b[0m⠀\u001b[0m⠀\u001b[31m⠠\u001b[39m\u001b[31m⠉\u001b[39m\u001b[90m│\u001b[39m    \n",
       "        \u001b[90m │\u001b[39m\u001b[0m⠀\u001b[0m⠀\u001b[31m⠨\u001b[39m\u001b[0m⠀\u001b[31m⠋\u001b[39m\u001b[0m⠀\u001b[31m⠄\u001b[39m\u001b[0m⠀\u001b[31m⠂\u001b[39m\u001b[0m⠀\u001b[31m⠈\u001b[39m\u001b[0m⠀\u001b[0m⠀\u001b[0m⠀\u001b[31m⠈\u001b[39m\u001b[0m⠀\u001b[0m⠀\u001b[0m⠀\u001b[0m⠀\u001b[31m⡑\u001b[39m\u001b[0m⠀\u001b[31m⢀\u001b[39m\u001b[31m⠈\u001b[39m\u001b[31m⠈\u001b[39m\u001b[0m⠀\u001b[0m⠀\u001b[0m⠀\u001b[31m⠈\u001b[39m\u001b[0m⠀\u001b[31m⠂\u001b[39m\u001b[31m⠐\u001b[39m\u001b[31m⠼\u001b[39m\u001b[0m⠀\u001b[31m⠠\u001b[39m\u001b[0m⠀\u001b[0m⠀\u001b[31m⡈\u001b[39m\u001b[31m⠁\u001b[39m\u001b[0m⠀\u001b[0m⠀\u001b[31m⠡\u001b[39m\u001b[31m⠄\u001b[39m\u001b[90m│\u001b[39m    \n",
       "        \u001b[90m │\u001b[39m\u001b[31m⠠\u001b[39m\u001b[31m⡁\u001b[39m\u001b[0m⠀\u001b[0m⠀\u001b[0m⠀\u001b[0m⠀\u001b[0m⠀\u001b[0m⠀\u001b[0m⠀\u001b[0m⠀\u001b[31m⠂\u001b[39m\u001b[31m⢀\u001b[39m\u001b[0m⠀\u001b[0m⠀\u001b[0m⠀\u001b[31m⡄\u001b[39m\u001b[0m⠀\u001b[0m⠀\u001b[0m⠀\u001b[31m⠤\u001b[39m\u001b[0m⠀\u001b[0m⠀\u001b[31m⠁\u001b[39m\u001b[0m⠀\u001b[31m⡂\u001b[39m\u001b[0m⠀\u001b[0m⠀\u001b[0m⠀\u001b[31m⠄\u001b[39m\u001b[0m⠀\u001b[31m⢈\u001b[39m\u001b[0m⠀\u001b[31m⢔\u001b[39m\u001b[31m⡊\u001b[39m\u001b[31m⣨\u001b[39m\u001b[31m⠈\u001b[39m\u001b[31m⠂\u001b[39m\u001b[0m⠀\u001b[31m⠄\u001b[39m\u001b[31m⢀\u001b[39m\u001b[0m⠀\u001b[0m⠀\u001b[90m│\u001b[39m    \n",
       "        \u001b[90m │\u001b[39m\u001b[0m⠀\u001b[31m⠂\u001b[39m\u001b[0m⠀\u001b[31m⠈\u001b[39m\u001b[0m⠀\u001b[0m⠀\u001b[0m⠀\u001b[0m⠀\u001b[0m⠀\u001b[0m⠀\u001b[31m⠈\u001b[39m\u001b[0m⠀\u001b[31m⡀\u001b[39m\u001b[0m⠀\u001b[31m⠂\u001b[39m\u001b[31m⠠\u001b[39m\u001b[31m⠐\u001b[39m\u001b[0m⠀\u001b[31m⠄\u001b[39m\u001b[0m⠀\u001b[0m⠀\u001b[0m⠀\u001b[0m⠀\u001b[0m⠀\u001b[0m⠀\u001b[31m⠤\u001b[39m\u001b[0m⠀\u001b[0m⠀\u001b[0m⠀\u001b[31m⠠\u001b[39m\u001b[31m⠘\u001b[39m\u001b[31m⠐\u001b[39m\u001b[0m⠀\u001b[31m⠄\u001b[39m\u001b[31m⢘\u001b[39m\u001b[0m⠀\u001b[0m⠀\u001b[31m⢐\u001b[39m\u001b[31m⠄\u001b[39m\u001b[0m⠀\u001b[31m⠁\u001b[39m\u001b[0m⠀\u001b[90m│\u001b[39m    \n",
       "        \u001b[90m │\u001b[39m\u001b[31m⢀\u001b[39m\u001b[31m⠄\u001b[39m\u001b[31m⢠\u001b[39m\u001b[31m⠄\u001b[39m\u001b[31m⡊\u001b[39m\u001b[31m⠂\u001b[39m\u001b[31m⠢\u001b[39m\u001b[31m⢀\u001b[39m\u001b[0m⠀\u001b[0m⠀\u001b[0m⠀\u001b[0m⠀\u001b[31m⠄\u001b[39m\u001b[31m⡀\u001b[39m\u001b[31m⡑\u001b[39m\u001b[0m⠀\u001b[31m⡐\u001b[39m\u001b[0m⠀\u001b[31m⠁\u001b[39m\u001b[31m⡂\u001b[39m\u001b[0m⠀\u001b[0m⠀\u001b[0m⠀\u001b[31m⠰\u001b[39m\u001b[31m⠂\u001b[39m\u001b[31m⢠\u001b[39m\u001b[31m⠄\u001b[39m\u001b[31m⠈\u001b[39m\u001b[0m⠀\u001b[31m⠈\u001b[39m\u001b[31m⠐\u001b[39m\u001b[0m⠀\u001b[0m⠀\u001b[0m⠀\u001b[31m⠉\u001b[39m\u001b[0m⠀\u001b[0m⠀\u001b[31m⡀\u001b[39m\u001b[0m⠀\u001b[0m⠀\u001b[31m⠃\u001b[39m\u001b[0m⠀\u001b[90m│\u001b[39m    \n",
       "        \u001b[90m │\u001b[39m\u001b[0m⠀\u001b[0m⠀\u001b[31m⠅\u001b[39m\u001b[0m⠀\u001b[31m⡁\u001b[39m\u001b[0m⠀\u001b[0m⠀\u001b[0m⠀\u001b[0m⠀\u001b[0m⠀\u001b[31m⢁\u001b[39m\u001b[31m⢀\u001b[39m\u001b[0m⠀\u001b[31m⡀\u001b[39m\u001b[31m⡀\u001b[39m\u001b[31m⡐\u001b[39m\u001b[0m⠀\u001b[0m⠀\u001b[31m⠈\u001b[39m\u001b[31m⠈\u001b[39m\u001b[31m⠔\u001b[39m\u001b[31m⠄\u001b[39m\u001b[0m⠀\u001b[0m⠀\u001b[31m⢀\u001b[39m\u001b[0m⠀\u001b[0m⠀\u001b[0m⠀\u001b[0m⠀\u001b[0m⠀\u001b[0m⠀\u001b[0m⠀\u001b[0m⠀\u001b[31m⠄\u001b[39m\u001b[31m⢉\u001b[39m\u001b[31m⠠\u001b[39m\u001b[31m⠁\u001b[39m\u001b[0m⠀\u001b[31m⠁\u001b[39m\u001b[0m⠀\u001b[0m⠀\u001b[0m⠀\u001b[90m│\u001b[39m    \n",
       "        \u001b[90m │\u001b[39m\u001b[31m⠊\u001b[39m\u001b[31m⢈\u001b[39m\u001b[0m⠀\u001b[31m⠁\u001b[39m\u001b[0m⠀\u001b[0m⠀\u001b[0m⠀\u001b[31m⠅\u001b[39m\u001b[0m⠀\u001b[31m⠂\u001b[39m\u001b[0m⠀\u001b[31m⡀\u001b[39m\u001b[0m⠀\u001b[0m⠀\u001b[0m⠀\u001b[0m⠀\u001b[31m⡀\u001b[39m\u001b[0m⠀\u001b[0m⠀\u001b[31m⠐\u001b[39m\u001b[31m⠄\u001b[39m\u001b[31m⠁\u001b[39m\u001b[31m⠠\u001b[39m\u001b[0m⠀\u001b[31m⠐\u001b[39m\u001b[31m⠈\u001b[39m\u001b[0m⠀\u001b[0m⠀\u001b[0m⠀\u001b[31m⡀\u001b[39m\u001b[31m⢠\u001b[39m\u001b[0m⠀\u001b[0m⠀\u001b[0m⠀\u001b[31m⢰\u001b[39m\u001b[0m⠀\u001b[0m⠀\u001b[0m⠀\u001b[31m⢀\u001b[39m\u001b[0m⠀\u001b[31m⠠\u001b[39m\u001b[31m⠂\u001b[39m\u001b[90m│\u001b[39m    \n",
       "        \u001b[90m │\u001b[39m\u001b[31m⠈\u001b[39m\u001b[0m⠀\u001b[0m⠀\u001b[31m⠈\u001b[39m\u001b[31m⠄\u001b[39m\u001b[0m⠀\u001b[0m⠀\u001b[31m⠄\u001b[39m\u001b[31m⠐\u001b[39m\u001b[0m⠀\u001b[31m⠠\u001b[39m\u001b[31m⠁\u001b[39m\u001b[31m⠁\u001b[39m\u001b[0m⠀\u001b[31m⡂\u001b[39m\u001b[0m⠀\u001b[31m⠠\u001b[39m\u001b[31m⠄\u001b[39m\u001b[31m⠌\u001b[39m\u001b[31m⠅\u001b[39m\u001b[31m⣀\u001b[39m\u001b[0m⠀\u001b[0m⠀\u001b[31m⢀\u001b[39m\u001b[0m⠀\u001b[31m⠠\u001b[39m\u001b[0m⠀\u001b[31m⠠\u001b[39m\u001b[31m⠠\u001b[39m\u001b[0m⠀\u001b[31m⠲\u001b[39m\u001b[31m⢂\u001b[39m\u001b[0m⠀\u001b[31m⠰\u001b[39m\u001b[31m⡄\u001b[39m\u001b[0m⠀\u001b[31m⢀\u001b[39m\u001b[31m⠬\u001b[39m\u001b[31m⠈\u001b[39m\u001b[0m⠀\u001b[0m⠀\u001b[0m⠀\u001b[90m│\u001b[39m    \n",
       "        \u001b[90m │\u001b[39m\u001b[31m⠈\u001b[39m\u001b[0m⠀\u001b[0m⠀\u001b[31m⠄\u001b[39m\u001b[0m⠀\u001b[0m⠀\u001b[31m⡀\u001b[39m\u001b[31m⠈\u001b[39m\u001b[0m⠀\u001b[0m⠀\u001b[31m⠙\u001b[39m\u001b[0m⠀\u001b[0m⠀\u001b[0m⠀\u001b[31m⢀\u001b[39m\u001b[31m⢀\u001b[39m\u001b[31m⠂\u001b[39m\u001b[0m⠀\u001b[0m⠀\u001b[31m⡄\u001b[39m\u001b[31m⢀\u001b[39m\u001b[0m⠀\u001b[31m⠠\u001b[39m\u001b[0m⠀\u001b[31m⠂\u001b[39m\u001b[0m⠀\u001b[0m⠀\u001b[31m⠐\u001b[39m\u001b[0m⠀\u001b[0m⠀\u001b[31m⠸\u001b[39m\u001b[0m⠀\u001b[0m⠀\u001b[0m⠀\u001b[31m⠈\u001b[39m\u001b[31m⠠\u001b[39m\u001b[0m⠀\u001b[31m⠠\u001b[39m\u001b[31m⠁\u001b[39m\u001b[0m⠀\u001b[31m⠂\u001b[39m\u001b[0m⠀\u001b[90m│\u001b[39m    \n",
       "        \u001b[90m │\u001b[39m\u001b[31m⠄\u001b[39m\u001b[0m⠀\u001b[0m⠀\u001b[0m⠀\u001b[31m⠄\u001b[39m\u001b[31m⠂\u001b[39m\u001b[31m⠂\u001b[39m\u001b[0m⠀\u001b[0m⠀\u001b[0m⠀\u001b[31m⠡\u001b[39m\u001b[31m⠁\u001b[39m\u001b[0m⠀\u001b[31m⢉\u001b[39m\u001b[31m⠄\u001b[39m\u001b[0m⠀\u001b[0m⠀\u001b[0m⠀\u001b[31m⡐\u001b[39m\u001b[31m⠑\u001b[39m\u001b[31m⠂\u001b[39m\u001b[31m⠄\u001b[39m\u001b[31m⠂\u001b[39m\u001b[0m⠀\u001b[0m⠀\u001b[0m⠀\u001b[31m⢀\u001b[39m\u001b[0m⠀\u001b[31m⢀\u001b[39m\u001b[0m⠀\u001b[0m⠀\u001b[0m⠀\u001b[0m⠀\u001b[31m⠉\u001b[39m\u001b[31m⠠\u001b[39m\u001b[31m⠈\u001b[39m\u001b[0m⠀\u001b[31m⠁\u001b[39m\u001b[0m⠀\u001b[0m⠀\u001b[31m⡀\u001b[39m\u001b[31m⠄\u001b[39m\u001b[90m│\u001b[39m    \n",
       "        \u001b[90m │\u001b[39m\u001b[0m⠀\u001b[0m⠀\u001b[0m⠀\u001b[0m⠀\u001b[0m⠀\u001b[0m⠀\u001b[0m⠀\u001b[0m⠀\u001b[0m⠀\u001b[0m⠀\u001b[0m⠀\u001b[31m⠠\u001b[39m\u001b[31m⠂\u001b[39m\u001b[0m⠀\u001b[0m⠀\u001b[31m⠄\u001b[39m\u001b[0m⠀\u001b[0m⠀\u001b[0m⠀\u001b[0m⠀\u001b[31m⠐\u001b[39m\u001b[31m⡀\u001b[39m\u001b[0m⠀\u001b[0m⠀\u001b[31m⠁\u001b[39m\u001b[0m⠀\u001b[31m⠐\u001b[39m\u001b[0m⠀\u001b[0m⠀\u001b[0m⠀\u001b[31m⢰\u001b[39m\u001b[31m⡄\u001b[39m\u001b[31m⠁\u001b[39m\u001b[0m⠀\u001b[0m⠀\u001b[31m⠉\u001b[39m\u001b[31m⠠\u001b[39m\u001b[0m⠀\u001b[31m⠠\u001b[39m\u001b[0m⠀\u001b[31m⡀\u001b[39m\u001b[0m⠀\u001b[90m│\u001b[39m    \n",
       "        \u001b[90m │\u001b[39m\u001b[31m⡁\u001b[39m\u001b[31m⠄\u001b[39m\u001b[31m⢀\u001b[39m\u001b[31m⠂\u001b[39m\u001b[0m⠀\u001b[31m⠁\u001b[39m\u001b[31m⡈\u001b[39m\u001b[31m⠆\u001b[39m\u001b[0m⠀\u001b[31m⠄\u001b[39m\u001b[31m⠁\u001b[39m\u001b[31m⠁\u001b[39m\u001b[0m⠀\u001b[31m⠂\u001b[39m\u001b[31m⠁\u001b[39m\u001b[0m⠀\u001b[31m⠂\u001b[39m\u001b[31m⢀\u001b[39m\u001b[0m⠀\u001b[0m⠀\u001b[0m⠀\u001b[0m⠀\u001b[0m⠀\u001b[0m⠀\u001b[31m⠁\u001b[39m\u001b[0m⠀\u001b[0m⠀\u001b[31m⡀\u001b[39m\u001b[0m⠀\u001b[31m⠐\u001b[39m\u001b[0m⠀\u001b[0m⠀\u001b[0m⠀\u001b[0m⠀\u001b[0m⠀\u001b[0m⠀\u001b[0m⠀\u001b[31m⢀\u001b[39m\u001b[31m⠄\u001b[39m\u001b[31m⠤\u001b[39m\u001b[31m⠁\u001b[39m\u001b[31m⠠\u001b[39m\u001b[90m│\u001b[39m    \n",
       "        \u001b[90m │\u001b[39m\u001b[0m⠀\u001b[31m⠅\u001b[39m\u001b[31m⠄\u001b[39m\u001b[31m⠈\u001b[39m\u001b[0m⠀\u001b[31m⢀\u001b[39m\u001b[31m⠂\u001b[39m\u001b[31m⠁\u001b[39m\u001b[31m⠐\u001b[39m\u001b[0m⠀\u001b[31m⡠\u001b[39m\u001b[31m⠄\u001b[39m\u001b[0m⠀\u001b[31m⠄\u001b[39m\u001b[31m⠐\u001b[39m\u001b[0m⠀\u001b[0m⠀\u001b[0m⠀\u001b[0m⠀\u001b[31m⡀\u001b[39m\u001b[0m⠀\u001b[31m⠁\u001b[39m\u001b[31m⡢\u001b[39m\u001b[0m⠀\u001b[31m⠙\u001b[39m\u001b[0m⠀\u001b[31m⠇\u001b[39m\u001b[0m⠀\u001b[31m⢂\u001b[39m\u001b[0m⠀\u001b[31m⣠\u001b[39m\u001b[0m⠀\u001b[31m⠂\u001b[39m\u001b[0m⠀\u001b[0m⠀\u001b[31m⠂\u001b[39m\u001b[0m⠀\u001b[31m⠥\u001b[39m\u001b[31m⠄\u001b[39m\u001b[31m⢁\u001b[39m\u001b[31m⡀\u001b[39m\u001b[31m⡀\u001b[39m\u001b[90m│\u001b[39m    \n",
       "   \u001b[90m10000\u001b[39m\u001b[90m │\u001b[39m\u001b[31m⠘\u001b[39m\u001b[0m⠀\u001b[0m⠀\u001b[0m⠀\u001b[31m⠈\u001b[39m\u001b[31m⠃\u001b[39m\u001b[31m⡁\u001b[39m\u001b[31m⠨\u001b[39m\u001b[31m⠁\u001b[39m\u001b[31m⠐\u001b[39m\u001b[0m⠀\u001b[0m⠀\u001b[31m⠈\u001b[39m\u001b[31m⠁\u001b[39m\u001b[31m⠄\u001b[39m\u001b[0m⠀\u001b[31m⠁\u001b[39m\u001b[0m⠀\u001b[0m⠀\u001b[31m⠂\u001b[39m\u001b[31m⠁\u001b[39m\u001b[31m⢈\u001b[39m\u001b[31m⠁\u001b[39m\u001b[0m⠀\u001b[0m⠀\u001b[31m⡁\u001b[39m\u001b[0m⠀\u001b[0m⠀\u001b[0m⠀\u001b[31m⢀\u001b[39m\u001b[31m⢰\u001b[39m\u001b[0m⠀\u001b[0m⠀\u001b[31m⠈\u001b[39m\u001b[0m⠀\u001b[31m⠈\u001b[39m\u001b[0m⠀\u001b[0m⠀\u001b[0m⠀\u001b[0m⠀\u001b[31m⡂\u001b[39m\u001b[0m⠀\u001b[90m│\u001b[39m    \n",
       "\u001b[90m         └──────────────────────────────────────────┘\u001b[39m    \n",
       "\u001b[90m         1\u001b[39m\u001b[90m                    \u001b[39m\u001b[90m                  10000\u001b[39m\n",
       "\u001b[0m                          nz = 600"
      ]
     },
     "execution_count": 60,
     "metadata": {},
     "output_type": "execute_result"
    }
   ],
   "source": [
    "spy(A[1:10000, 1:10000])"
   ]
  },
  {
   "cell_type": "markdown",
   "metadata": {},
   "source": [
    "**Hint**: For plots, you can use the [UnicodePlots.jl](https://github.com/Evizero/UnicodePlots.jl) package (`spy`, `histogram`, etc), which is fast for large data. "
   ]
  },
  {
   "cell_type": "markdown",
   "metadata": {},
   "source": [
    "## Q4. (5 pts) Dense linear algebra? \n",
    "\n",
    "Consider the following methods to obtain the page ranks of the `SNAP/web-Google` data. \n",
    "\n",
    "1. A dense linear system solver such as LU decomposition.  \n",
    "2. A dense eigen-solver for asymmetric matrix.  \n",
    "\n",
    "For the LU approach, estimate (1) the memory usage and (2) how long it will take assuming that the LAPACK functions can achieve the theoretical throughput of your computer.\n",
    "\n",
    "**Solutions:** \n",
    "1. **For LU approach**, it will need to store n by n matrix for coefficient and n vector for the results, which will need in total of $916428^2*8+916428*8= 6718.73\\mathrm{GB}$. Assume we can do $10^{12}$ flops per second and it will take $(2\\times(916428)^3/3+ 2\\times(916428)^2)/10^{12}= 513103$ second $\\approx$ 5.94 days"
   ]
  },
  {
   "cell_type": "markdown",
   "metadata": {},
   "source": [
    "## Q5. Iterative solvers\n",
    "\n",
    "Set the _teleportation_ parameter at $p = 0.85$. Consider the following methods for solving the PageRank problem. \n",
    "\n",
    "1. An iterative linear system solver such as GMRES. \n",
    "2. An iterative eigen-solver such as Arnoldi method.\n",
    "\n",
    "For iterative methods, we have many choices in Julia. See a list of existing Julia packages for linear solvers at this [page](https://jutho.github.io/KrylovKit.jl/stable/#Package-features-and-alternatives-1). The start-up code below uses the [KrylovKit.jl](https://github.com/Jutho/KrylovKit.jl) package. You can use other packages if you prefer. Make sure to utilize the special structure of $\\mathbf{P}$ (sparse + rank 1) to speed up the matrix-vector multiplication. "
   ]
  },
  {
   "cell_type": "markdown",
   "metadata": {},
   "source": [
    "### Step 1 (15 pts)\n",
    "\n",
    "Let's implement a type `PageRankImPt` that mimics the matrix $\\mathbf{M} = \\mathbf{I} - \\mathbf{P}^T$. For iterative methods, all we need to provide is methods for evaluating $\\mathbf{M} \\mathbf{v}$ and $\\mathbf{M}^T \\mathbf{v}$ for arbitrary vector $\\mathbf{v}$."
   ]
  },
  {
   "cell_type": "code",
   "execution_count": 5,
   "metadata": {},
   "outputs": [
    {
     "data": {
      "text/plain": [
       "PageRankImPt"
      ]
     },
     "execution_count": 5,
     "metadata": {},
     "output_type": "execute_result"
    }
   ],
   "source": [
    "using BenchmarkTools, LinearAlgebra, SparseArrays, Revise\n",
    "\n",
    "# a type for the matrix M = I - P^T in PageRank problem\n",
    "struct PageRankImPt{TA <: Number, IA <: Integer, T <: AbstractFloat} <: AbstractMatrix{T}\n",
    "    A         :: SparseMatrixCSC{TA, IA} # adjacency matrix\n",
    "    telep     :: T\n",
    "    # working arrays\n",
    "    # TODO: whatever intermediate arrays you may want to pre-allocate\n",
    "    oneV      :: Vector{T}\n",
    "    R         :: Vector{T}\n",
    "    d         :: Vector{T}\n",
    "    z         :: Vector{T}\n",
    "    ztv       :: Vector{T}\n",
    "    dtv       :: Vector{T}\n",
    "    Atdtv     :: Vector{T}\n",
    "    out       :: Vector{T}\n",
    "    \n",
    "end\n",
    "\n",
    "# constructor\n",
    "function PageRankImPt(A::SparseMatrixCSC, telep::T) where T <: AbstractFloat\n",
    "    n = size(A, 1)\n",
    "    \n",
    "    oneV = ones(n)\n",
    "    # TODO: initialize and pre-allocate arrays\n",
    "    # R = vec(sum(A, dims=2))\n",
    "    R = A*ones(n)\n",
    "    \n",
    "    # Pre-allocate and cal decomposed matrix P\n",
    "    d = Vector{T}(undef,n)\n",
    "    z = Vector{T}(undef,n)\n",
    "    for i in 1:n\n",
    "        if R[i] == 0\n",
    "            d[i], z[i] = 0, 1/n\n",
    "        else\n",
    "            d[i], z[i] = telep/R[i], (1-telep)/n\n",
    "        end\n",
    "    end\n",
    "    \n",
    "    # changing Vectors for updating Mv\n",
    "    dtv = similar(d)\n",
    "    Atdtv = similar(d)\n",
    "    ztv = similar(z)\n",
    "    out = similar(z)\n",
    "    \n",
    "    PageRankImPt(A, telep, oneV, R, d, z, ztv, dtv, Atdtv, out)\n",
    "end"
   ]
  },
  {
   "cell_type": "code",
   "execution_count": 112,
   "metadata": {
    "collapsed": true,
    "jupyter": {
     "outputs_hidden": true
    }
   },
   "outputs": [
    {
     "name": "stdout",
     "output_type": "stream",
     "text": [
      "search: \u001b[0m\u001b[1mr\u001b[22m\u001b[0m\u001b[1mm\u001b[22m\u001b[0m\u001b[1mu\u001b[22m\u001b[0m\u001b[1ml\u001b[22m\u001b[0m\u001b[1m!\u001b[22m ba\u001b[0m\u001b[1mr\u001b[22me\u001b[0m\u001b[1mm\u001b[22mod\u001b[0m\u001b[1mu\u001b[22m\u001b[0m\u001b[1ml\u001b[22me pa\u001b[0m\u001b[1mr\u001b[22ment\u001b[0m\u001b[1mm\u001b[22mod\u001b[0m\u001b[1mu\u001b[22m\u001b[0m\u001b[1ml\u001b[22me p\u001b[0m\u001b[1mr\u001b[22mo\u001b[0m\u001b[1mm\u001b[22mote_r\u001b[0m\u001b[1mu\u001b[22m\u001b[0m\u001b[1ml\u001b[22me\n",
      "\n"
     ]
    },
    {
     "data": {
      "text/latex": [
       "\\begin{verbatim}\n",
       "rmul!(A::AbstractArray, b::Number)\n",
       "\\end{verbatim}\n",
       "Scale an array \\texttt{A} by a scalar \\texttt{b} overwriting \\texttt{A} in-place.  Use \\href{@ref}{\\texttt{lmul!}} to multiply scalar from left.  The scaling operation respects the semantics of the multiplication \\href{@ref}{\\texttt{*}} between an element of \\texttt{A} and \\texttt{b}.  In particular, this also applies to multiplication involving non-finite numbers such as \\texttt{NaN} and \\texttt{±Inf}.\n",
       "\n",
       "\\begin{quote}\n",
       "\\textbf{compat}\n",
       "\n",
       "Julia 1.1\n",
       "\n",
       "Prior to Julia 1.1, \\texttt{NaN} and \\texttt{±Inf} entries in \\texttt{A} were treated inconsistently.\n",
       "\n",
       "\\end{quote}\n",
       "\\section{Examples}\n",
       "\\begin{verbatim}\n",
       "julia> A = [1 2; 3 4]\n",
       "2×2 Array{Int64,2}:\n",
       " 1  2\n",
       " 3  4\n",
       "\n",
       "julia> rmul!(A, 2)\n",
       "2×2 Array{Int64,2}:\n",
       " 2  4\n",
       " 6  8\n",
       "\n",
       "julia> rmul!([NaN], 0.0)\n",
       "1-element Array{Float64,1}:\n",
       " NaN\n",
       "\\end{verbatim}\n",
       "\\rule{\\textwidth}{1pt}\n",
       "\\begin{verbatim}\n",
       "rmul!(A, B)\n",
       "\\end{verbatim}\n",
       "Calculate the matrix-matrix product $AB$, overwriting \\texttt{A}, and return the result. Here, \\texttt{B} must be of special matrix type, like, e.g., \\href{@ref}{\\texttt{Diagonal}}, \\href{@ref}{\\texttt{UpperTriangular}} or \\href{@ref}{\\texttt{LowerTriangular}}, or of some orthogonal type, see \\href{@ref}{\\texttt{QR}}.\n",
       "\n",
       "\\section{Examples}\n",
       "\\begin{verbatim}\n",
       "julia> A = [0 1; 1 0];\n",
       "\n",
       "julia> B = LinearAlgebra.UpperTriangular([1 2; 0 3]);\n",
       "\n",
       "julia> LinearAlgebra.rmul!(A, B);\n",
       "\n",
       "julia> A\n",
       "2×2 Array{Int64,2}:\n",
       " 0  3\n",
       " 1  2\n",
       "\n",
       "julia> A = [1.0 2.0; 3.0 4.0];\n",
       "\n",
       "julia> F = qr([0 1; -1 0]);\n",
       "\n",
       "julia> rmul!(A, F.Q)\n",
       "2×2 Array{Float64,2}:\n",
       " 2.0  1.0\n",
       " 4.0  3.0\n",
       "\\end{verbatim}\n"
      ],
      "text/markdown": [
       "```\n",
       "rmul!(A::AbstractArray, b::Number)\n",
       "```\n",
       "\n",
       "Scale an array `A` by a scalar `b` overwriting `A` in-place.  Use [`lmul!`](@ref) to multiply scalar from left.  The scaling operation respects the semantics of the multiplication [`*`](@ref) between an element of `A` and `b`.  In particular, this also applies to multiplication involving non-finite numbers such as `NaN` and `±Inf`.\n",
       "\n",
       "!!! compat \"Julia 1.1\"\n",
       "    Prior to Julia 1.1, `NaN` and `±Inf` entries in `A` were treated inconsistently.\n",
       "\n",
       "\n",
       "# Examples\n",
       "\n",
       "```jldoctest\n",
       "julia> A = [1 2; 3 4]\n",
       "2×2 Array{Int64,2}:\n",
       " 1  2\n",
       " 3  4\n",
       "\n",
       "julia> rmul!(A, 2)\n",
       "2×2 Array{Int64,2}:\n",
       " 2  4\n",
       " 6  8\n",
       "\n",
       "julia> rmul!([NaN], 0.0)\n",
       "1-element Array{Float64,1}:\n",
       " NaN\n",
       "```\n",
       "\n",
       "---\n",
       "\n",
       "```\n",
       "rmul!(A, B)\n",
       "```\n",
       "\n",
       "Calculate the matrix-matrix product $AB$, overwriting `A`, and return the result. Here, `B` must be of special matrix type, like, e.g., [`Diagonal`](@ref), [`UpperTriangular`](@ref) or [`LowerTriangular`](@ref), or of some orthogonal type, see [`QR`](@ref).\n",
       "\n",
       "# Examples\n",
       "\n",
       "```jldoctest\n",
       "julia> A = [0 1; 1 0];\n",
       "\n",
       "julia> B = LinearAlgebra.UpperTriangular([1 2; 0 3]);\n",
       "\n",
       "julia> LinearAlgebra.rmul!(A, B);\n",
       "\n",
       "julia> A\n",
       "2×2 Array{Int64,2}:\n",
       " 0  3\n",
       " 1  2\n",
       "\n",
       "julia> A = [1.0 2.0; 3.0 4.0];\n",
       "\n",
       "julia> F = qr([0 1; -1 0]);\n",
       "\n",
       "julia> rmul!(A, F.Q)\n",
       "2×2 Array{Float64,2}:\n",
       " 2.0  1.0\n",
       " 4.0  3.0\n",
       "```\n"
      ],
      "text/plain": [
       "\u001b[36m  rmul!(A::AbstractArray, b::Number)\u001b[39m\n",
       "\n",
       "  Scale an array \u001b[36mA\u001b[39m by a scalar \u001b[36mb\u001b[39m overwriting \u001b[36mA\u001b[39m in-place. Use \u001b[36mlmul!\u001b[39m to multiply\n",
       "  scalar from left. The scaling operation respects the semantics of the\n",
       "  multiplication \u001b[36m*\u001b[39m between an element of \u001b[36mA\u001b[39m and \u001b[36mb\u001b[39m. In particular, this also\n",
       "  applies to multiplication involving non-finite numbers such as \u001b[36mNaN\u001b[39m and \u001b[36m±Inf\u001b[39m.\n",
       "\n",
       "\u001b[39m\u001b[1m  │ \u001b[22m\u001b[39m\u001b[1mJulia 1.1\u001b[22m\n",
       "\u001b[39m\u001b[1m  │\u001b[22m\n",
       "\u001b[39m\u001b[1m  │\u001b[22m  Prior to Julia 1.1, \u001b[36mNaN\u001b[39m and \u001b[36m±Inf\u001b[39m entries in \u001b[36mA\u001b[39m were treated\n",
       "\u001b[39m\u001b[1m  │\u001b[22m  inconsistently.\n",
       "\n",
       "\u001b[1m  Examples\u001b[22m\n",
       "\u001b[1m  ≡≡≡≡≡≡≡≡≡≡\u001b[22m\n",
       "\n",
       "\u001b[36m  julia> A = [1 2; 3 4]\u001b[39m\n",
       "\u001b[36m  2×2 Array{Int64,2}:\u001b[39m\n",
       "\u001b[36m   1  2\u001b[39m\n",
       "\u001b[36m   3  4\u001b[39m\n",
       "\u001b[36m  \u001b[39m\n",
       "\u001b[36m  julia> rmul!(A, 2)\u001b[39m\n",
       "\u001b[36m  2×2 Array{Int64,2}:\u001b[39m\n",
       "\u001b[36m   2  4\u001b[39m\n",
       "\u001b[36m   6  8\u001b[39m\n",
       "\u001b[36m  \u001b[39m\n",
       "\u001b[36m  julia> rmul!([NaN], 0.0)\u001b[39m\n",
       "\u001b[36m  1-element Array{Float64,1}:\u001b[39m\n",
       "\u001b[36m   NaN\u001b[39m\n",
       "\n",
       "  ────────────────────────────────────────────────────────────────────────────\n",
       "\n",
       "\u001b[36m  rmul!(A, B)\u001b[39m\n",
       "\n",
       "  Calculate the matrix-matrix product \u001b[35mAB\u001b[39m, overwriting \u001b[36mA\u001b[39m, and return the\n",
       "  result. Here, \u001b[36mB\u001b[39m must be of special matrix type, like, e.g., \u001b[36mDiagonal\u001b[39m,\n",
       "  \u001b[36mUpperTriangular\u001b[39m or \u001b[36mLowerTriangular\u001b[39m, or of some orthogonal type, see \u001b[36mQR\u001b[39m.\n",
       "\n",
       "\u001b[1m  Examples\u001b[22m\n",
       "\u001b[1m  ≡≡≡≡≡≡≡≡≡≡\u001b[22m\n",
       "\n",
       "\u001b[36m  julia> A = [0 1; 1 0];\u001b[39m\n",
       "\u001b[36m  \u001b[39m\n",
       "\u001b[36m  julia> B = LinearAlgebra.UpperTriangular([1 2; 0 3]);\u001b[39m\n",
       "\u001b[36m  \u001b[39m\n",
       "\u001b[36m  julia> LinearAlgebra.rmul!(A, B);\u001b[39m\n",
       "\u001b[36m  \u001b[39m\n",
       "\u001b[36m  julia> A\u001b[39m\n",
       "\u001b[36m  2×2 Array{Int64,2}:\u001b[39m\n",
       "\u001b[36m   0  3\u001b[39m\n",
       "\u001b[36m   1  2\u001b[39m\n",
       "\u001b[36m  \u001b[39m\n",
       "\u001b[36m  julia> A = [1.0 2.0; 3.0 4.0];\u001b[39m\n",
       "\u001b[36m  \u001b[39m\n",
       "\u001b[36m  julia> F = qr([0 1; -1 0]);\u001b[39m\n",
       "\u001b[36m  \u001b[39m\n",
       "\u001b[36m  julia> rmul!(A, F.Q)\u001b[39m\n",
       "\u001b[36m  2×2 Array{Float64,2}:\u001b[39m\n",
       "\u001b[36m   2.0  1.0\u001b[39m\n",
       "\u001b[36m   4.0  3.0\u001b[39m"
      ]
     },
     "execution_count": 112,
     "metadata": {},
     "output_type": "execute_result"
    }
   ],
   "source": [
    "?rmul!"
   ]
  },
  {
   "cell_type": "code",
   "execution_count": 6,
   "metadata": {},
   "outputs": [],
   "source": [
    "LinearAlgebra.issymmetric(::PageRankImPt) = false\n",
    "Base.size(M::PageRankImPt) = size(M.A)\n",
    "# TODO: implement this function for evaluating M[i, j]\n",
    "Base.getindex(M::PageRankImPt, i, j) = M.telep\n",
    "# implement the basic function for struct PageRankImPt\n",
    "function Base.getindex(M::PageRankImPt, i, j)\n",
    "    if i==j\n",
    "        return (1-M.A[i,j] * M.d[i] - M.z[i])\n",
    "    else\n",
    "        return (-M.A[i,j] * M.d[i] - M.z[i])\n",
    "    end\n",
    "end"
   ]
  },
  {
   "cell_type": "code",
   "execution_count": 13,
   "metadata": {},
   "outputs": [],
   "source": [
    "# overwrite `out` by `(I - Pt) * v`\n",
    "function LinearAlgebra.mul!(\n",
    "        out :: Vector{T}, \n",
    "        M   :: PageRankImPt{<:Number, <:Integer, T}, \n",
    "        v   :: Vector{T}) where T <: AbstractFloat\n",
    "    # TODO: implement mul!(out, M, v)\n",
    "    #D^Tv = > A^TD^Tv\n",
    "    M.dtv .= M.d .* v\n",
    "    mul!(M.Atdtv, transpose(A), M.dtv)\n",
    "    \n",
    "    #1z^Tv\n",
    "    M.ztv .= dot(M.z, v).*M.oneV\n",
    "    \n",
    "    out .= v .- M.ztv .- M.Atdtv\n",
    "    return out\n",
    "end\n",
    "\n",
    "# overwrite `out` by `(I - P) * v`\n",
    "function LinearAlgebra.mul!(\n",
    "        out :: Vector{T}, \n",
    "        Mt  :: Transpose{T, PageRankImPt{TA, IA, T}}, \n",
    "        v   :: Vector{T}) where {TA<:Number, IA<:Integer, T <: AbstractFloat}\n",
    "    M = Mt.parent\n",
    "    # TODO: implement mul!(out, transpose(M), v)\n",
    "    mul!(M.dtv, M.A, v) # actually calculate AV here\n",
    "    M.Atdtv .= M.d .* M.dtv  # actually calculate DAV \n",
    "    \n",
    "    M.ztv .= M.z .* (sum(v).*M.oneV) # actually calculate Z1'V\n",
    "    # out variable will be re-allocated when calling the function\n",
    "    # and thus no need to pre-allocate in the structure\n",
    "    out .= v .- M.Atdtv .- M.ztv\n",
    "    return out\n",
    "end"
   ]
  },
  {
   "cell_type": "markdown",
   "metadata": {},
   "source": [
    "To check correctness. Note \n",
    "$$\n",
    "\\mathbf{M}^T \\mathbf{1} = \\mathbf{0}\n",
    "$$\n",
    "and\n",
    "$$\n",
    "\\mathbf{M}^T \\mathbf{x} = \\mathbf{x}\n",
    "$$\n",
    "for stationary distribution $\\mathbf{x}$.\n",
    "\n",
    "Download the solution file `pgrksol.csv`. **Do not put this file in your Git**. You can add a line `pgrksol.csv` to your `.gitignore` file."
   ]
  },
  {
   "cell_type": "code",
   "execution_count": 8,
   "metadata": {},
   "outputs": [],
   "source": [
    "using DelimitedFiles\n",
    "\n",
    "isfile(\"pgrksol.csv\") || download(\"https://raw.githubusercontent.com/ucla-biostat-257-2020spring/ucla-biostat-257-2020spring.github.io/master/hw/hw3/pgrksol.csv\")\n",
    "xsol = vec(readdlm(\"pgrksol.csv\"));"
   ]
  },
  {
   "cell_type": "markdown",
   "metadata": {},
   "source": [
    "**You will lose all 35 points (Steps 1 and 2)** if the following statements throw AssertError."
   ]
  },
  {
   "cell_type": "code",
   "execution_count": 14,
   "metadata": {},
   "outputs": [],
   "source": [
    "M = PageRankImPt(A, 0.85)\n",
    "n = size(M, 1)\n",
    "\n",
    "# @assert transpose(M) * ones(n) ≈ zeros(n)\n",
    "# Use the relaxed criteria\n",
    "@assert norm(transpose(M) * ones(n)) < 1e-12"
   ]
  },
  {
   "cell_type": "code",
   "execution_count": 15,
   "metadata": {},
   "outputs": [],
   "source": [
    "# @assert M * xsol ≈ zeros(n)\n",
    "# Use the relaxed criteria\n",
    "@assert norm(M * xsol) < 1e-12"
   ]
  },
  {
   "cell_type": "markdown",
   "metadata": {},
   "source": [
    "### Step 2 (20 pts)\n",
    "\n",
    "We want to benchmark the hot functions `mul!` to make sure they are efficient and allocate litte memory."
   ]
  },
  {
   "cell_type": "code",
   "execution_count": 16,
   "metadata": {},
   "outputs": [
    {
     "data": {
      "text/plain": [
       "BenchmarkTools.Trial: \n",
       "  memory estimate:  16 bytes\n",
       "  allocs estimate:  1\n",
       "  --------------\n",
       "  minimum time:     23.605 ms (0.00% GC)\n",
       "  median time:      25.278 ms (0.00% GC)\n",
       "  mean time:        26.377 ms (0.00% GC)\n",
       "  maximum time:     29.865 ms (0.00% GC)\n",
       "  --------------\n",
       "  samples:          184\n",
       "  evals/sample:     1"
      ]
     },
     "execution_count": 16,
     "metadata": {},
     "output_type": "execute_result"
    }
   ],
   "source": [
    "M = PageRankImPt(A, 0.85)\n",
    "n = size(M, 1)\n",
    "v, out = ones(n), zeros(n)\n",
    "bm_mv = @benchmark mul!($out, $M, $v) setup=(fill!(out, 0); fill!(v, 1))"
   ]
  },
  {
   "cell_type": "code",
   "execution_count": 17,
   "metadata": {},
   "outputs": [
    {
     "data": {
      "text/plain": [
       "BenchmarkTools.Trial: \n",
       "  memory estimate:  0 bytes\n",
       "  allocs estimate:  0\n",
       "  --------------\n",
       "  minimum time:     24.118 ms (0.00% GC)\n",
       "  median time:      24.468 ms (0.00% GC)\n",
       "  mean time:        24.731 ms (0.00% GC)\n",
       "  maximum time:     29.312 ms (0.00% GC)\n",
       "  --------------\n",
       "  samples:          195\n",
       "  evals/sample:     1"
      ]
     },
     "execution_count": 17,
     "metadata": {},
     "output_type": "execute_result"
    }
   ],
   "source": [
    "bm_mtv = @benchmark mul!($out, $(transpose(M)), $v) setup=(fill!(out, 0); fill!(v, 1))"
   ]
  },
  {
   "cell_type": "markdown",
   "metadata": {},
   "source": [
    "You will lose 1 point for each 100 bytes memory allocation. So the points you will get is"
   ]
  },
  {
   "cell_type": "code",
   "execution_count": 18,
   "metadata": {},
   "outputs": [
    {
     "data": {
      "text/plain": [
       "19.84"
      ]
     },
     "execution_count": 18,
     "metadata": {},
     "output_type": "execute_result"
    }
   ],
   "source": [
    "clamp(10 - median(bm_mv).memory / 100, 0, 10) + \n",
    "clamp(10 - median(bm_mtv).memory / 100, 0, 10)"
   ]
  },
  {
   "cell_type": "markdown",
   "metadata": {},
   "source": [
    "**Hint**: My median run times are 30-40 ms and memory allocations are 0-16 bytes."
   ]
  },
  {
   "cell_type": "markdown",
   "metadata": {},
   "source": [
    "### Step 3 (20 pts)\n",
    "\n",
    "Let's first try to solve the PageRank problem by the GMRES method for solving linear equations. "
   ]
  },
  {
   "cell_type": "code",
   "execution_count": 19,
   "metadata": {},
   "outputs": [],
   "source": [
    "using KrylovKit\n",
    "\n",
    "# normalize in-degrees to be the start point\n",
    "x0   = vec(sum(A, dims = 1)) .+ 1.0\n",
    "x0 ./= sum(x0)\n",
    "\n",
    "# right hand side\n",
    "b = zeros(n);"
   ]
  },
  {
   "cell_type": "code",
   "execution_count": 20,
   "metadata": {},
   "outputs": [
    {
     "data": {
      "text/plain": [
       "([3.378375565730854e-5, 2.0710008290004846e-6, 3.663160494081563e-6, 7.527477309596129e-7, 8.63326175148559e-7, 1.7694050004451021e-6, 2.431230085065255e-7, 6.368398928398891e-7, 4.7449719187525534e-7, 2.6895483443481086e-7  …  3.1679174389517645e-6, 9.72731264250764e-7, 6.588685596562533e-7, 7.736991169983615e-7, 2.431230085065255e-7, 1.6219392163585108e-6, 3.912137945773289e-7, 2.431230085065255e-7, 7.296031020719451e-6, 6.330963730931431e-7], ConvergenceInfo: no converged values after 1 iterations and 31 applications of the linear map;\n",
       "norms of residuals are given by (2.563520017593024e-8,).\n",
       ")"
      ]
     },
     "execution_count": 20,
     "metadata": {},
     "output_type": "execute_result"
    }
   ],
   "source": [
    "# warm up (compilation)\n",
    "linsolve(M, b, x0, issymmetric = false, isposdef = false, maxiter = 1) "
   ]
  },
  {
   "cell_type": "code",
   "execution_count": 21,
   "metadata": {},
   "outputs": [
    {
     "data": {
      "text/plain": [
       "(([3.378342822183504e-5, 2.071015539245162e-6, 3.663065985231259e-6, 7.527510785590286e-7, 8.63328599714724e-7, 1.7694182527349206e-6, 2.4312303829080455e-7, 6.36841718073685e-7, 4.7449737037420244e-7, 2.689548611092025e-7  …  3.1679469739726655e-6, 9.726880410215637e-7, 6.588614478531613e-7, 7.737011774702039e-7, 2.4312303829080455e-7, 1.6219204214220026e-6, 3.912130060624972e-7, 2.4312303829080455e-7, 7.29603383131291e-6, 6.330939996667897e-7], ConvergenceInfo: one converged value after 3 iterations and 72 applications of the linear map;\n",
       "norms of residuals are given by (7.821171057225167e-13,).\n",
       "), 4.893589299, 1010851097, 0.158265197, Base.GC_Diff(1010851097, 137, 0, 123784, 6, 0, 158265197, 4, 0))"
      ]
     },
     "execution_count": 21,
     "metadata": {},
     "output_type": "execute_result"
    }
   ],
   "source": [
    "# output is complex eigenvalue/eigenvector\n",
    "(x_gmres, info), time_gmres, = @timed linsolve(M, b, x0, issymmetric = false, isposdef = false)"
   ]
  },
  {
   "cell_type": "markdown",
   "metadata": {},
   "source": [
    "Check correctness. **You will lose all 20 points if the following statement throws `AssertError`.**"
   ]
  },
  {
   "cell_type": "code",
   "execution_count": 22,
   "metadata": {},
   "outputs": [],
   "source": [
    "@assert norm(x_gmres - xsol) < 1e-8"
   ]
  },
  {
   "cell_type": "markdown",
   "metadata": {},
   "source": [
    "GMRES should be reasonably fast. The points you'll get is"
   ]
  },
  {
   "cell_type": "code",
   "execution_count": 23,
   "metadata": {},
   "outputs": [
    {
     "data": {
      "text/plain": [
       "20.0"
      ]
     },
     "execution_count": 23,
     "metadata": {},
     "output_type": "execute_result"
    }
   ],
   "source": [
    "clamp(20 / time_gmres * 20, 0, 20)"
   ]
  },
  {
   "cell_type": "markdown",
   "metadata": {},
   "source": [
    "**Hint**: My runtime is about 8 seconds."
   ]
  },
  {
   "cell_type": "markdown",
   "metadata": {},
   "source": [
    "### Step 4 (20 pts)\n",
    "\n",
    "Let's first try to solve the PageRank problem by the Arnoldi method for solving eigen problems. "
   ]
  },
  {
   "cell_type": "code",
   "execution_count": 24,
   "metadata": {},
   "outputs": [
    {
     "data": {
      "text/plain": [
       "((Complex{Float64}[-4.51831843083042e-15 + 0.0im], Array{Complex{Float64},1}[[0.0056358269538073135 + 0.0im, 0.00034549143807828867 + 0.0im, 0.000611080849412517 + 0.0im, 0.00012557561626035086 + 0.0im, 0.00014402240532803155 + 0.0im, 0.00029517830503984565 + 0.0im, 4.0558328286778296e-5 + 0.0im, 0.00010623935784851998 + 0.0im, 7.915671116195223e-5 + 0.0im, 4.486765066724855e-5 + 0.0im  …  0.0005284839899797004 + 0.0im, 0.00016226599147988716 + 0.0im, 0.00010991273837609647 + 0.0im, 0.00012907055855751584 + 0.0im, 4.0558328286778296e-5 + 0.0im, 0.00027057238743203937 + 0.0im, 6.526302748333306e-5 + 0.0im, 4.0558328286778296e-5 + 0.0im, 0.0012171406601327998 + 0.0im, 0.0001056141551069903 + 0.0im]], ConvergenceInfo: one converged value after 7 iterations and 99 applications of the linear map;\n",
       "norms of residuals are given by (9.575962515146957e-14,).\n",
       "), 9.648659201, 1584017541, 0.1799063, Base.GC_Diff(1584017541, 213, 0, 139424, 51, 0, 179906300, 4, 0))"
      ]
     },
     "execution_count": 24,
     "metadata": {},
     "output_type": "execute_result"
    }
   ],
   "source": [
    "# warm up (compilation)\n",
    "eigsolve(M, x0, 1, :SR, issymmetric = false, maxiter = 1)\n",
    "# output is complex eigenvalue/eigenvector\n",
    "(vals, vecs, info), time_arnoldi, = @timed eigsolve(M, x0, 1, :SR, issymmetric = false)"
   ]
  },
  {
   "cell_type": "markdown",
   "metadata": {},
   "source": [
    "Check correctness. **You will lose all 20 points if the following statement throws `AssertError`.**"
   ]
  },
  {
   "cell_type": "code",
   "execution_count": 25,
   "metadata": {},
   "outputs": [],
   "source": [
    "@assert abs(Real(vals[1])) < 1e-8"
   ]
  },
  {
   "cell_type": "code",
   "execution_count": 32,
   "metadata": {},
   "outputs": [],
   "source": [
    "x_arnoldi   = abs.(Real.(vecs[1]))\n",
    "x_arnoldi ./= sum(x_arnoldi)\n",
    "@assert norm(x_arnoldi - xsol) < 1e-8"
   ]
  },
  {
   "cell_type": "markdown",
   "metadata": {},
   "source": [
    "Arnoldi should be reasonably fast. The points you'll get is"
   ]
  },
  {
   "cell_type": "code",
   "execution_count": 27,
   "metadata": {},
   "outputs": [
    {
     "data": {
      "text/plain": [
       "20.0"
      ]
     },
     "execution_count": 27,
     "metadata": {},
     "output_type": "execute_result"
    }
   ],
   "source": [
    "clamp(20 / time_arnoldi * 20, 0, 20)"
   ]
  },
  {
   "cell_type": "markdown",
   "metadata": {},
   "source": [
    "**Hint**: My runtime is about 11 seconds."
   ]
  },
  {
   "cell_type": "markdown",
   "metadata": {},
   "source": [
    "## Q6. (5 pts) Results\n",
    "\n",
    "List the top 20 pages you found and their corresponding PageRank score. Do they match the top 20 pages ranked according to in-degrees?\n",
    "\n",
    "**Solution:** \n",
    "The rank number is extracted by using`sortperm` and find the corresponding row number for rank smaller than 20 (top20), which is shown below and different from both in-degrees and out-degrees. Only 2~3 website index occur in all these list."
   ]
  },
  {
   "cell_type": "code",
   "execution_count": 51,
   "metadata": {},
   "outputs": [
    {
     "name": "stdout",
     "output_type": "stream",
     "text": [
      "findall((x->begin\n",
      "            #= In[51]:2 =#\n",
      "            x <= 20\n",
      "        end), orderI) = [1, 2, 3, 249292, 295651, 311132, 313180, 413532, 527221, 530130, 618065, 656417, 661692, 692881, 768969, 816429, 836458, 871154, 878833, 914688]\n",
      "findall((x->begin\n",
      "            #= In[51]:3 =#\n",
      "            x <= 20\n",
      "        end), rankInD) = [1, 2, 3, 201884, 201885, 201886, 201887, 201888, 201889, 201890, 488779, 603321, 603322, 698817, 726686, 830133, 844453, 844454, 901699, 915320]\n",
      "findall((x->begin\n",
      "            #= In[51]:4 =#\n",
      "            x <= 20\n",
      "        end), rankOutD) = [1, 2, 176975, 176976, 304912, 400165, 400166, 466141, 466142, 607465, 607466, 607467, 715809, 744905, 744906, 744907, 844414, 857484, 869262, 891799]\n"
     ]
    },
    {
     "data": {
      "text/plain": [
       "20-element Array{Int64,1}:\n",
       "      1\n",
       "      2\n",
       " 176975\n",
       " 176976\n",
       " 304912\n",
       " 400165\n",
       " 400166\n",
       " 466141\n",
       " 466142\n",
       " 607465\n",
       " 607466\n",
       " 607467\n",
       " 715809\n",
       " 744905\n",
       " 744906\n",
       " 744907\n",
       " 844414\n",
       " 857484\n",
       " 869262\n",
       " 891799"
      ]
     },
     "execution_count": 51,
     "metadata": {},
     "output_type": "execute_result"
    }
   ],
   "source": [
    "orderI = sortperm(x_arnoldi)\n",
    "@show findall(x->x<=20, orderI) \n",
    "@show findall(x->x<=20, rankInD)\n",
    "@show findall(x->x<=20, rankOutD)"
   ]
  },
  {
   "cell_type": "markdown",
   "metadata": {},
   "source": [
    "## Q7. Be proud of yourself\n",
    "\n",
    "Go to your resume/cv and claim you have experience performing analysis on a network of one million nodes."
   ]
  }
 ],
 "metadata": {
  "@webio": {
   "lastCommId": null,
   "lastKernelId": null
  },
  "kernelspec": {
   "display_name": "Julia 1.4.1",
   "language": "julia",
   "name": "julia-1.4"
  },
  "language_info": {
   "file_extension": ".jl",
   "mimetype": "application/julia",
   "name": "julia",
   "version": "1.4.1"
  },
  "toc": {
   "colors": {
    "hover_highlight": "#DAA520",
    "running_highlight": "#FF0000",
    "selected_highlight": "#FFD700"
   },
   "moveMenuLeft": true,
   "nav_menu": {
    "height": "87px",
    "width": "252px"
   },
   "navigate_menu": true,
   "number_sections": false,
   "sideBar": true,
   "skip_h1_title": true,
   "threshold": 4,
   "toc_cell": false,
   "toc_section_display": "block",
   "toc_window_display": true,
   "widenNotebook": false
  }
 },
 "nbformat": 4,
 "nbformat_minor": 4
}
