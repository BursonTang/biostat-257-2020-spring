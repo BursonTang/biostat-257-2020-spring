{
 "cells": [
  {
   "cell_type": "markdown",
   "metadata": {},
   "source": [
    "# Biostat 257 Homework 1\n",
    "\n",
    "#### Due Apr 17 @ 11:59PM"
   ]
  },
  {
   "cell_type": "markdown",
   "metadata": {},
   "source": [
    "## Q1\n",
    "\n",
    "**No handwritten homework reports are accepted for this course.**  We work with Git/GitHub.  Efficient and abundant use of Git, e.g., **frequent and well-documented** commits, is an important criterion for grading your homework.\n",
    "\n",
    "1. If you don't have a GitHub account, apply for the [Student Developer Pack](https://education.github.com/pack) at GitHub using your UCLA email.\n",
    "\n",
    "2. Create a **private** repository `biostat-257-2020-spring` and add `Hua-Zhou` and `BrendonChau` (TA) as your collaborators.\n",
    "\n",
    "3. Top directories of the repository should be `hw1`, `hw2`, ... You may create other branches for developing your homework solutions; but the `master` branch will be your presentation area. Put your homework submission files (Jupyter notebook `.ipynb`, html converted from notebook, all code and data set to reproduce results) in the `master` branch. \n",
    "\n",
    "4. After each homework due date, teaching assistant and instructor will check out your `master` branch for grading. Tag each of your homework submissions with tag names `hw1`, `hw2`, ...  Tagging time will be used as your submission time. That means if you tag your hw1 submission after deadline, penalty points will be deducted for late submission.  \n",
    "\n",
    "5. Read the [style guide](https://github.com/johnmyleswhite/Style.jl) for Julia programming. Following rules in the style guide will be strictly enforced when grading: (4) four space indenting rule, (6) 80 charcter rule, (7) space after comma rule, (8) no space before comma rule, (9) space around operator rule.\n",
    "\n",
    "**Solution:** The repository has been created and the invitation for collaboration sent."
   ]
  },
  {
   "cell_type": "markdown",
   "metadata": {},
   "source": [
    "## Q2\n",
    "\n",
    "Let's check whether floating-point numbers obey certain algebraic rules. For 2-5, one counter-example suffices.\n",
    "\n",
    "1. Associative rule for addition says `(x + y) + z == x + (y + z)`. Check association rule using `x = 0.1`, `y = 0.1` and `z = 1.0` in Julia. Explain what you find.\n",
    "\n",
    "    **Solution:**  flase is returned. The left-hand-side result is 1.2 while the right-hand-side has more decimal digits which makes the answer wrong actually. This is probaboly because most decimals have infinite representations in binary and turncated in programming language. When the '0.1+ 0.1' is calculated first, since 0.2 is exactly twice 0.1 (although they are not respectively 2/10 and 1/10), and that adding 0.1 to itself produces the value that is also the one you get when you type the constant 0.2."
   ]
  },
  {
   "cell_type": "code",
   "execution_count": 4,
   "metadata": {},
   "outputs": [
    {
     "name": "stdout",
     "output_type": "stream",
     "text": [
      "1.2\n",
      "1.2000000000000002"
     ]
    },
    {
     "data": {
      "text/plain": [
       "false"
      ]
     },
     "execution_count": 4,
     "metadata": {},
     "output_type": "execute_result"
    }
   ],
   "source": [
    "x, y, z = 0.1, 0.1, 1.0\n",
    "print((x+y) + z)\n",
    "print('\\n')\n",
    "print(x +(y+z))\n",
    "(x+y) + z == x +(y+z)"
   ]
  },
  {
   "cell_type": "markdown",
   "metadata": {},
   "source": [
    "2. Do floating-point numbers obey the associative rule for multiplication: `(x * y) * z == x * (y * z)`?\n",
    "\n",
    "    **Solution:** No, not all of them do. For the same reason, this can return false."
   ]
  },
  {
   "cell_type": "code",
   "execution_count": 5,
   "metadata": {},
   "outputs": [
    {
     "name": "stdout",
     "output_type": "stream",
     "text": [
      "0.0030000000000000005\n",
      "0.003"
     ]
    },
    {
     "data": {
      "text/plain": [
       "false"
      ]
     },
     "execution_count": 5,
     "metadata": {},
     "output_type": "execute_result"
    }
   ],
   "source": [
    "x, y, z = 0.1, 0.1, 0.3\n",
    "print((x*y) * z)\n",
    "print('\\n')\n",
    "print(x * (y*z))\n",
    "(x * y) * z == x * (y * z)"
   ]
  },
  {
   "cell_type": "markdown",
   "metadata": {},
   "source": [
    "3. Do floating-point numbers obey the distributive rule: `a * (x + y) == a * x + a * y`?  \n",
    "\n",
    "    **Solution:** No, not all of them do. For the same reason, this can return false."
   ]
  },
  {
   "cell_type": "code",
   "execution_count": 6,
   "metadata": {},
   "outputs": [
    {
     "name": "stdout",
     "output_type": "stream",
     "text": [
      "0.09000000000000001\n",
      "0.09"
     ]
    },
    {
     "data": {
      "text/plain": [
       "false"
      ]
     },
     "execution_count": 6,
     "metadata": {},
     "output_type": "execute_result"
    }
   ],
   "source": [
    "x, y, a = 0.1, 0.2, 0.3\n",
    "print(a * (x + y))\n",
    "print('\\n')\n",
    "print(a * x + a * y)\n",
    "a * (x + y) == a * x + a * y"
   ]
  },
  {
   "cell_type": "markdown",
   "metadata": {},
   "source": [
    "4. Is `0 * x == 0` true for all floating-point number `x`? \n",
    "\n",
    "    **Solution:** Yes, since the answer of left-hand-side is always 0, which has the value as the one on the right-hand-side of the equation, no matter how it is represented in binary"
   ]
  },
  {
   "cell_type": "markdown",
   "metadata": {},
   "source": [
    "5. Is `x / a == x * (1 / a)` always true?\n",
    "\n",
    "    **Solution:** Yes"
   ]
  },
  {
   "cell_type": "markdown",
   "metadata": {},
   "source": [
    "## Q3\n",
    "\n",
    "Consider Julia function\n",
    "```julia\n",
    "function g(k)\n",
    "    for i in 1:10\n",
    "        k = 5k - 1\n",
    "    end\n",
    "    k\n",
    "end\n",
    "```\n",
    "1. Use `@code_llvm` to find the LLVM bitcode of compiled `g` with `Int64` input. \n",
    "\n",
    "    **Solution:** "
   ]
  },
  {
   "cell_type": "code",
   "execution_count": 7,
   "metadata": {},
   "outputs": [
    {
     "name": "stdout",
     "output_type": "stream",
     "text": [
      "\n",
      ";  @ In[7]:2 within `g'\n",
      "; Function Attrs: uwtable\n",
      "define i64 @julia_g_17783(i64) #0 {\n",
      "top:\n",
      ";  @ In[7]:3 within `g'\n",
      "; ┌ @ int.jl:54 within `*'\n",
      "   %1 = mul i64 %0, 9765625\n",
      "; └\n",
      "; ┌ @ int.jl:52 within `-'\n",
      "   %2 = add i64 %1, -2441406\n",
      "; └\n",
      ";  @ In[7]:5 within `g'\n",
      "  ret i64 %2\n",
      "}\n"
     ]
    }
   ],
   "source": [
    "function g(k)\n",
    "    for i in 1:10\n",
    "        k = 5k - 1\n",
    "    end\n",
    "    k\n",
    "end\n",
    "@code_llvm g(2)"
   ]
  },
  {
   "cell_type": "markdown",
   "metadata": {},
   "source": [
    " 2. Use `@code_llvm` to find the LLVM bitcode of compiled `g` with `Float64` input.  "
   ]
  },
  {
   "cell_type": "code",
   "execution_count": 8,
   "metadata": {},
   "outputs": [
    {
     "name": "stdout",
     "output_type": "stream",
     "text": [
      "\n",
      ";  @ In[7]:2 within `g'\n",
      "; Function Attrs: uwtable\n",
      "define double @julia_g_17784(double) #0 {\n",
      "top:\n",
      ";  @ In[7]:3 within `g'\n",
      "; ┌ @ promotion.jl:312 within `*' @ float.jl:405\n",
      "   %1 = fmul double %0, 5.000000e+00\n",
      "; └\n",
      "; ┌ @ promotion.jl:313 within `-' @ float.jl:403\n",
      "   %2 = fadd double %1, -1.000000e+00\n",
      "; └\n",
      "; ┌ @ promotion.jl:312 within `*' @ float.jl:405\n",
      "   %3 = fmul double %2, 5.000000e+00\n",
      "; └\n",
      "; ┌ @ promotion.jl:313 within `-' @ float.jl:403\n",
      "   %4 = fadd double %3, -1.000000e+00\n",
      "; └\n",
      "; ┌ @ promotion.jl:312 within `*' @ float.jl:405\n",
      "   %5 = fmul double %4, 5.000000e+00\n",
      "; └\n",
      "; ┌ @ promotion.jl:313 within `-' @ float.jl:403\n",
      "   %6 = fadd double %5, -1.000000e+00\n",
      "; └\n",
      "; ┌ @ promotion.jl:312 within `*' @ float.jl:405\n",
      "   %7 = fmul double %6, 5.000000e+00\n",
      "; └\n",
      "; ┌ @ promotion.jl:313 within `-' @ float.jl:403\n",
      "   %8 = fadd double %7, -1.000000e+00\n",
      "; └\n",
      "; ┌ @ promotion.jl:312 within `*' @ float.jl:405\n",
      "   %9 = fmul double %8, 5.000000e+00\n",
      "; └\n",
      "; ┌ @ promotion.jl:313 within `-' @ float.jl:403\n",
      "   %10 = fadd double %9, -1.000000e+00\n",
      "; └\n",
      "; ┌ @ promotion.jl:312 within `*' @ float.jl:405\n",
      "   %11 = fmul double %10, 5.000000e+00\n",
      "; └\n",
      "; ┌ @ promotion.jl:313 within `-' @ float.jl:403\n",
      "   %12 = fadd double %11, -1.000000e+00\n",
      "; └\n",
      "; ┌ @ promotion.jl:312 within `*' @ float.jl:405\n",
      "   %13 = fmul double %12, 5.000000e+00\n",
      "; └\n",
      "; ┌ @ promotion.jl:313 within `-' @ float.jl:403\n",
      "   %14 = fadd double %13, -1.000000e+00\n",
      "; └\n",
      "; ┌ @ promotion.jl:312 within `*' @ float.jl:405\n",
      "   %15 = fmul double %14, 5.000000e+00\n",
      "; └\n",
      "; ┌ @ promotion.jl:313 within `-' @ float.jl:403\n",
      "   %16 = fadd double %15, -1.000000e+00\n",
      "; └\n",
      "; ┌ @ promotion.jl:312 within `*' @ float.jl:405\n",
      "   %17 = fmul double %16, 5.000000e+00\n",
      "; └\n",
      "; ┌ @ promotion.jl:313 within `-' @ float.jl:403\n",
      "   %18 = fadd double %17, -1.000000e+00\n",
      "; └\n",
      "; ┌ @ promotion.jl:312 within `*' @ float.jl:405\n",
      "   %19 = fmul double %18, 5.000000e+00\n",
      "; └\n",
      "; ┌ @ promotion.jl:313 within `-' @ float.jl:403\n",
      "   %20 = fadd double %19, -1.000000e+00\n",
      "; └\n",
      ";  @ In[7]:5 within `g'\n",
      "  ret double %20\n",
      "}\n"
     ]
    }
   ],
   "source": [
    "@code_llvm g(2.0)"
   ]
  },
  {
   "cell_type": "markdown",
   "metadata": {},
   "source": [
    "3. Compare the bitcode from questions 1 and 2. What do you find?  \n",
    "\n",
    "    **Solution:** Julia is compiling the function differently based on the input type. For the `Int64` input, the LLVM bitcode is way simpler than what used for `Float46` input, which can make the program more efficient."
   ]
  },
  {
   "cell_type": "markdown",
   "metadata": {},
   "source": [
    "4. Read Julia documentation on `@fastmath` and repeat the questions 1-3 on the function  \n",
    "\n",
    "```julia\n",
    "function g_fastmath(k)  \n",
    "    @fastmath for i in 1:10  \n",
    "        k = 5k - 1\n",
    "    end\n",
    "    k\n",
    "end\n",
    "```\n",
    "Explain what does macro `@fastmath` do?\n",
    "\n",
    "**Solution:** According to the documentation, `fastmath` execute a transformed version of the expression and it allows floating point optimizations that are correct for real numbers, but lead to differences for IEEE numbers. The bitcode for `Int64` input is same as the original function `g` and the bitcode for floating point number is optimized and way shorter than the original one."
   ]
  },
  {
   "cell_type": "code",
   "execution_count": 9,
   "metadata": {},
   "outputs": [
    {
     "name": "stdout",
     "output_type": "stream",
     "text": [
      "\n",
      ";  @ In[9]:2 within `g_fastmath'\n",
      "; Function Attrs: uwtable\n",
      "define i64 @julia_g_fastmath_17785(i64) #0 {\n",
      "top:\n",
      ";  @ In[9]:3 within `g_fastmath'\n",
      "; ┌ @ fastmath.jl:266 within `mul_fast'\n",
      "; │┌ @ int.jl:54 within `*'\n",
      "    %1 = mul i64 %0, 9765625\n",
      "; └└\n",
      "; ┌ @ fastmath.jl:266 within `sub_fast'\n",
      "; │┌ @ int.jl:52 within `-'\n",
      "    %2 = add i64 %1, -2441406\n",
      "; └└\n",
      ";  @ In[9]:5 within `g_fastmath'\n",
      "  ret i64 %2\n",
      "}\n"
     ]
    }
   ],
   "source": [
    "function g_fastmath(k)  \n",
    "    @fastmath for i in 1:10  \n",
    "        k = 5k - 1\n",
    "    end\n",
    "    k\n",
    "end\n",
    "@code_llvm g_fastmath(2)"
   ]
  },
  {
   "cell_type": "code",
   "execution_count": 10,
   "metadata": {},
   "outputs": [
    {
     "name": "stdout",
     "output_type": "stream",
     "text": [
      "\n",
      ";  @ In[9]:2 within `g_fastmath'\n",
      "; Function Attrs: uwtable\n",
      "define double @julia_g_fastmath_17786(double) #0 {\n",
      "top:\n",
      ";  @ In[9]:3 within `g_fastmath'\n",
      "; ┌ @ fastmath.jl:263 within `mul_fast' @ fastmath.jl:163\n",
      "   %1 = fmul fast double %0, 0x4162A05F20000000\n",
      "; └\n",
      "; ┌ @ fastmath.jl:263 within `sub_fast' @ fastmath.jl:162\n",
      "   %2 = fadd fast double %1, 0xC142A05F00000000\n",
      "; └\n",
      ";  @ In[9]:5 within `g_fastmath'\n",
      "  ret double %2\n",
      "}\n"
     ]
    }
   ],
   "source": [
    "@code_llvm g_fastmath(2.0)"
   ]
  },
  {
   "cell_type": "markdown",
   "metadata": {},
   "source": [
    "## Q4\n",
    "\n",
    "Create the vector `x = (0.988, 0.989, 0.990, ..., 1.010, 1.011, 1.012)`. \n",
    "\n",
    "1. Plot the polynomial `y = x^7 - 7x^6 + 21x^5 - 35x^4 + 35x^3 - 21x^2 + 7x -1` at points `x`.  "
   ]
  },
  {
   "cell_type": "code",
   "execution_count": 50,
   "metadata": {},
   "outputs": [
    {
     "data": {
      "image/png": "[encoded data removed]"
     },
     "metadata": {},
     "output_type": "display_data"
    },
    {
     "data": {
      "text/plain": [
       "RObject{VecSxp}\n"
      ]
     },
     "execution_count": 50,
     "metadata": {},
     "output_type": "execute_result"
    }
   ],
   "source": [
    "x = 0.988:0.001:1.012\n",
    "y = x.^7 -7*x.^6 + 21*x.^5 - 35*x.^4 + 35*x.^3 - 21*x.^2  + 7 .*x .-1\n",
    "\n",
    "using RCall\n",
    "R\"\"\"\n",
    "data <- data.frame(x=$x,y=$y)\n",
    "library(ggplot2)\n",
    "library(dplyr)\n",
    "ggplot(data, aes(x = x, y = y)) + \n",
    "    geom_line(color='steelblue', size=1)\n",
    "\"\"\""
   ]
  },
  {
   "cell_type": "markdown",
   "metadata": {},
   "source": [
    "2. Plot the polynomial `y = (x - 1)^7` at points `x`.  "
   ]
  },
  {
   "cell_type": "code",
   "execution_count": 51,
   "metadata": {},
   "outputs": [
    {
     "data": {
      "image/png": "[encoded data removed]"
     },
     "metadata": {},
     "output_type": "display_data"
    },
    {
     "data": {
      "text/plain": [
       "RObject{VecSxp}\n"
      ]
     },
     "execution_count": 51,
     "metadata": {},
     "output_type": "execute_result"
    }
   ],
   "source": [
    "x = 0.988:0.001:1.012\n",
    "y = (x .-1).^7 \n",
    "\n",
    "using RCall\n",
    "R\"\"\"\n",
    "data <- data.frame(x=$x,y=$y)\n",
    "library(ggplot2)\n",
    "library(dplyr)\n",
    "ggplot(data, aes(x = x, y = y)) + \n",
    "    geom_line(color='steelblue', size=1)\n",
    "\"\"\""
   ]
  },
  {
   "cell_type": "markdown",
   "metadata": {},
   "source": [
    "3. Explain what you found.\n",
    "\n",
    "    **Solution:** Instability can be found on the previous plot and the line in the second plot is more smooth"
   ]
  },
  {
   "cell_type": "markdown",
   "metadata": {},
   "source": [
    "## Q5\n",
    "\n",
    "1. Show the **Sherman-Morrison formula**\n",
    "$$\n",
    "\t(\\mathbf{A} + \\mathbf{u} \\mathbf{u}^T)^{-1} = \\mathbf{A}^{-1} - \\frac{1}{1 + \\mathbf{u}^T \\mathbf{A}^{-1} \\mathbf{u}} \\mathbf{A}^{-1} \\mathbf{u} \\mathbf{u}^T \\mathbf{A}^{-1},\n",
    "$$\n",
    "where $\\mathbf{A} \\in \\mathbb{R}^{n \\times n}$ is nonsingular and $\\mathbf{u} \\in \\mathbb{R}^n$. This formula supplies the inverse of the symmetric, rank-one  perturbation of $\\mathbf{A}$."
   ]
  },
  {
   "cell_type": "markdown",
   "metadata": {},
   "source": [
    "**Solution:**\n",
    "\\begin{equation}\n",
    "\\begin{split}\n",
    "LHS^{-1}\\times RHS &= (A + uu^T)(A^{-1} - \\frac{1}{1+u^TA^{-1}u}A^{-1}uu^TA^{-1})\\\\\n",
    "& = AA^{-1} + uu^TA^{-1} - \\frac{AA^{-1}uu^TA^{-1}+ uu^TA^{-1}uu^TA^{-1}}{1+u^TA^{-1}u}\\\\\n",
    "& = I + uu^TA^{-1} - \\frac{uu^TA^{-1}+ uu^TA^{-1}uu^TA^{-1}}{1+u^TA^{-1}u}\\\\\n",
    "& = I + uu^TA^{-1} - \\frac{u(1+ u^TA^{-1}u)u^TA^{-1}}{1+u^TA^{-1}u}\\\\\n",
    "& = I + uu^TA^{-1} - uu^TA^{-1}\\\\\n",
    "& = I\n",
    "\\end{split}\n",
    "\\end{equation}"
   ]
  },
  {
   "cell_type": "markdown",
   "metadata": {},
   "source": [
    "2. Show the **Woodbury formula**\n",
    "$$\n",
    "\t(\\mathbf{A} + \\mathbf{U} \\mathbf{V}^T)^{-1} = \\mathbf{A}^{-1} - \\mathbf{A}^{-1} \\mathbf{U} (\\mathbf{I}_m + \\mathbf{V}^T \\mathbf{A}^{-1} \\mathbf{U})^{-1} \\mathbf{V}^T \\mathbf{A}^{-1},\n",
    "$$\n",
    "where $\\mathbf{A} \\in \\mathbb{R}^{n \\times n}$ is nonsingular, $\\mathbf{U}, \\mathbf{V} \\in \\mathbb{R}^{n \\times m}$, and $\\mathbf{I}_m$ is the $m \\times m$ identity matrix. In many applications $m$ is much smaller than $n$. Woodbury formula generalizes Sherman-Morrison and is valuable because the smaller matrix $\\mathbf{I}_m + \\mathbf{V}^T \\mathbf{A}^{-1} \\mathbf{U}$ is cheaper to invert than the larger matrix $\\mathbf{A} + \\mathbf{U} \\mathbf{V}^T$."
   ]
  },
  {
   "cell_type": "markdown",
   "metadata": {},
   "source": [
    "**Solutions:** Similarly,\n",
    "\\begin{equation}\n",
    "\\begin{split}\n",
    "LHS^{-1}\\times RHS &= (A + UV^T)\\left[A^{-1} - A^{-1}U(I_m+V^TA^{-1}U)^{-1}V^TA^{-1}\\right]\\\\\n",
    "& = AA^{-1} + UV^TA^{-1} - AA^{-1}U(I_m+V^TA^{-1}U)^{-1}V^TA^{-1} - UV^TA^{-1}U(I_m+V^TA^{-1}U)^{-1}V^TA^{-1}\\\\\n",
    "& = I + UV^TA^{-1} - U(I_m + V^TA^{-1}U)(I_m+V^TA^{-1}U)^{-1}V^TA^{-1}\\\\\n",
    "& = I + UV^TA^{-1} - UV^TA^{-1}\\\\\n",
    "& = I\n",
    "\\end{split}\n",
    "\\end{equation}"
   ]
  },
  {
   "cell_type": "markdown",
   "metadata": {},
   "source": [
    "3. Show the **binomial inversion formula**\n",
    "$$\n",
    "\t(\\mathbf{A} + \\mathbf{U} \\mathbf{B} \\mathbf{V}^T)^{-1} = \\mathbf{A}^{-1} - \\mathbf{A}^{-1} \\mathbf{U} (\\mathbf{B}^{-1} + \\mathbf{V}^T \\mathbf{A}^{-1} \\mathbf{U})^{-1} \\mathbf{V}^T \\mathbf{A}^{-1},$$\n",
    "where $\\mathbf{A}$ and $\\mathbf{B}$ are nonsingular."
   ]
  },
  {
   "cell_type": "markdown",
   "metadata": {},
   "source": [
    "**Solutions:** Similarly,\n",
    "\\begin{equation}\n",
    "\\begin{split}\n",
    "LHS^{-1}\\times RHS &= (A + UBV^T)\\left[A^{-1} - A^{-1}U(B^{-1}+V^TA^{-1}U)^{-1}V^TA^{-1}\\right]\\\\\n",
    "& = AA^{-1} + UBV^TA^{-1} - AA^{-1}U(B^{-1}+V^TA^{-1}U)^{-1}V^TA^{-1} - UBV^TA^{-1}U(B^{-1}+V^TA^{-1}U)^{-1}V^TA^{-1}\\\\\n",
    "& = I + UBV^TA^{-1} - UB(B^{-1} + V^TA^{-1}U)(B^{-1}+V^TA^{-1}U)^{-1}V^TA^{-1}\\\\\n",
    "& = I + UBV^TA^{-1} - UBV^TA^{-1}\\\\\n",
    "& = I\n",
    "\\end{split}\n",
    "\\end{equation}"
   ]
  },
  {
   "cell_type": "markdown",
   "metadata": {},
   "source": [
    "4. Show the identity\n",
    "$$\n",
    "\t\\text{det}(\\mathbf{A} + \\mathbf{U} \\mathbf{V}^T) = \\text{det}(\\mathbf{A}) \\text{det}(\\mathbf{I}_m + \\mathbf{V}^T \\mathbf{A}^{-1} \\mathbf{U}).\n",
    "$$\n",
    "This formula is useful for evaluating the density of a multivariate normal with covariance matrix $\\mathbf{A} + \\mathbf{U} \\mathbf{V}^T$.\n",
    "\n",
    "**Hint**: 1 and 2 are special cases of 3."
   ]
  },
  {
   "cell_type": "markdown",
   "metadata": {},
   "source": [
    "## Q6\n",
    "\n",
    "Demonstrate the following facts about triangular matrices in Julia (one example for each fact). Mathematically curious ones are also encouraged to prove them. \n",
    "\n",
    "Note a unit triangular matrix is a triangular matrix with all diagonal entries being 1.\n",
    "\n",
    "1. The product of two upper (lower) triangular matrices is upper (lower) triangular."
   ]
  },
  {
   "cell_type": "code",
   "execution_count": 31,
   "metadata": {},
   "outputs": [],
   "source": [
    "A = [2 1; 0 1]"
   ]
  },
  {
   "cell_type": "code",
   "execution_count": 32,
   "metadata": {},
   "outputs": [
    {
     "data": {
      "text/plain": [
       "2×2 Array{Int64,2}:\n",
       " 2  3\n",
       " 0  5"
      ]
     },
     "execution_count": 32,
     "metadata": {},
     "output_type": "execute_result"
    }
   ],
   "source": [
    "B = [2 3; 0 5]"
   ]
  },
  {
   "cell_type": "code",
   "execution_count": 33,
   "metadata": {},
   "outputs": [
    {
     "data": {
      "text/plain": [
       "2×2 Array{Int64,2}:\n",
       " 4  11\n",
       " 0   5"
      ]
     },
     "execution_count": 33,
     "metadata": {},
     "output_type": "execute_result"
    }
   ],
   "source": [
    "C = A*B"
   ]
  },
  {
   "cell_type": "markdown",
   "metadata": {},
   "source": [
    "2. The inverse of an upper (lower) triangular matrix is upper (lower) triangular."
   ]
  },
  {
   "cell_type": "code",
   "execution_count": 37,
   "metadata": {},
   "outputs": [
    {
     "data": {
      "text/plain": [
       "2×2 Array{Float64,2}:\n",
       " 0.5  -0.5\n",
       " 0.0   1.0"
      ]
     },
     "execution_count": 37,
     "metadata": {},
     "output_type": "execute_result"
    }
   ],
   "source": [
    "inv(A)"
   ]
  },
  {
   "cell_type": "markdown",
   "metadata": {},
   "source": [
    "3. The product of two unit upper (lower) triangular matrices is unit upper (lower) triangular."
   ]
  },
  {
   "cell_type": "code",
   "execution_count": 40,
   "metadata": {},
   "outputs": [
    {
     "data": {
      "text/plain": [
       "2×2 Array{Int64,2}:\n",
       " 1  3\n",
       " 0  1"
      ]
     },
     "execution_count": 40,
     "metadata": {},
     "output_type": "execute_result"
    }
   ],
   "source": [
    "A = [1 2; 0 1]\n",
    "B = [1 3; 0 1]"
   ]
  },
  {
   "cell_type": "markdown",
   "metadata": {},
   "source": [
    "4. The inverse of a unit upper (lower) triangular matrix is unit upper (lower) triangular."
   ]
  },
  {
   "cell_type": "code",
   "execution_count": 41,
   "metadata": {},
   "outputs": [
    {
     "data": {
      "text/plain": [
       "2×2 Array{Float64,2}:\n",
       " 1.0  -2.0\n",
       " 0.0   1.0"
      ]
     },
     "execution_count": 41,
     "metadata": {},
     "output_type": "execute_result"
    }
   ],
   "source": [
    "inv(A)"
   ]
  },
  {
   "cell_type": "markdown",
   "metadata": {},
   "source": [
    "5. An orthogonal upper (lower) triangular matrix is diagonal."
   ]
  },
  {
   "cell_type": "markdown",
   "metadata": {},
   "source": [
    "**Solutions:** \n",
    "\n",
    "Assume we have: \\begin{equation}\n",
    "A = \\begin{pmatrix} a & b \\\\ 0 & c\n",
    "\\end{pmatrix}\n",
    "\\end{equation}\n",
    "\n",
    "We know:\\begin{equation}\n",
    "AA^T = \\begin{pmatrix} a^2+b^2 & bc \\\\ bc & c^2\n",
    "\\end{pmatrix}\n",
    "\\end{equation}\n",
    "If A is upper triangular and also orthogonal,  $\\mathrm{bc = 0, c^2 \\ne 0}$ and thus $\\mathrm{b =0}$\n",
    "\n",
    "Similar for the lower triangular matrix case, so an orhtogonal upper(lower) triangular matrix is diagonal"
   ]
  }
 ],
 "metadata": {
  "kernelspec": {
   "display_name": "Julia 1.4.0",
   "language": "julia",
   "name": "julia-1.4"
  },
  "language_info": {
   "file_extension": ".jl",
   "mimetype": "application/julia",
   "name": "julia",
   "version": "1.4.0"
  },
  "toc": {
   "colors": {
    "hover_highlight": "#DAA520",
    "running_highlight": "#FF0000",
    "selected_highlight": "#FFD700"
   },
   "moveMenuLeft": true,
   "nav_menu": {
    "height": "153px",
    "width": "252px"
   },
   "navigate_menu": true,
   "number_sections": false,
   "sideBar": true,
   "skip_h1_title": true,
   "threshold": 4,
   "toc_cell": false,
   "toc_section_display": "block",
   "toc_window_display": true,
   "widenNotebook": false
  }
 },
 "nbformat": 4,
 "nbformat_minor": 4
}
